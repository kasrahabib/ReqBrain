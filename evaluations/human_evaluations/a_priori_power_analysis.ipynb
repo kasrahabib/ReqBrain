{
 "cells": [
  {
   "cell_type": "code",
   "execution_count": 1,
   "id": "f037f6a5-901c-48f5-9d8d-81021468fe0b",
   "metadata": {
    "tags": []
   },
   "outputs": [],
   "source": [
    "# Common imports\n",
    "\n",
    "import math\n",
    "import numpy as np"
   ]
  },
  {
   "cell_type": "code",
   "execution_count": 2,
   "id": "ec4638ed-03d9-4c07-a9bb-b551e8eb601c",
   "metadata": {
    "tags": []
   },
   "outputs": [],
   "source": [
    "# Parameters for the power analysis\n",
    "\n",
    "effect_size = 0.5      # Cohen's d (= a moderate effect size)\n",
    "alpha = 0.05           # Significance level\n",
    "power_desired = 0.8    # Desired power (80%)"
   ]
  },
  {
   "cell_type": "code",
   "execution_count": 3,
   "id": "d4e4688b-327e-4b73-9710-506ce90c330f",
   "metadata": {
    "tags": []
   },
   "outputs": [
    {
     "name": "stdout",
     "output_type": "stream",
     "text": [
      "Required sample size per group: 64.0\n"
     ]
    }
   ],
   "source": [
    "# t-test as analogous mann-whiteny u (two-sided)\n",
    "\n",
    "from statsmodels.stats.power import TTestIndPower\n",
    "\n",
    "alternative_2sided = 'two-sided'\n",
    "analysis = TTestIndPower()\n",
    "\n",
    "sample_size = analysis.solve_power(effect_size = effect_size,\n",
    "                                   alpha = alpha,\n",
    "                                   power = power_desired,\n",
    "                                   alternative = alternative_2sided)\n",
    "\n",
    "print(\"Required sample size per group:\", np.ceil(sample_size))"
   ]
  },
  {
   "cell_type": "code",
   "execution_count": 4,
   "id": "3a768e88-7e89-46bd-acc0-485dadef7a97",
   "metadata": {
    "tags": []
   },
   "outputs": [
    {
     "name": "stdout",
     "output_type": "stream",
     "text": [
      "Required sample size per group: 51.0\n"
     ]
    }
   ],
   "source": [
    "# Tailed (larger) t-test as analogous mann-whiteny u\n",
    "\n",
    "alternative_larger = 'larger'\n",
    "\n",
    "sample_size = analysis.solve_power(effect_size = effect_size,\n",
    "                                   alpha = alpha,\n",
    "                                   power = power_desired,\n",
    "                                   alternative = alternative_larger)\n",
    "\n",
    "print(\"Required sample size per group:\", np.ceil(sample_size))"
   ]
  },
  {
   "cell_type": "code",
   "execution_count": 5,
   "id": "5283538e-a360-4cbf-831c-5a79d58daac9",
   "metadata": {
    "tags": []
   },
   "outputs": [
    {
     "name": "stdout",
     "output_type": "stream",
     "text": [
      "Required Sample Size: 26\n"
     ]
    }
   ],
   "source": [
    "# Tailed (larger) one-sample t-test as analogous one-sample Wilcoxon signed-rank \n",
    "\n",
    "from statsmodels.stats.power import TTestPower\n",
    "\n",
    "def one_sample_ttest_power_analysis(effect_size, alpha = 0.05, power = 0.8):\n",
    "\n",
    "    power_analysis = TTestPower()\n",
    "    sample_size = power_analysis.solve_power(effect_size = effect_size, alpha = alpha, power = power, alternative = alternative_larger)\n",
    "    \n",
    "    return int(sample_size)\n",
    "\n",
    "required_sample_size = one_sample_ttest_power_analysis(effect_size, alpha, power_desired)\n",
    "print(f\"Required Sample Size: {required_sample_size}\")"
   ]
  },
  {
   "cell_type": "code",
   "execution_count": 6,
   "id": "6a7d9ddc-a9f2-4930-bcc3-50e17d695ebf",
   "metadata": {
    "tags": []
   },
   "outputs": [
    {
     "name": "stdout",
     "output_type": "stream",
     "text": [
      "Optimal total sample size (for chi-square goodness-of-fit): 32\n"
     ]
    }
   ],
   "source": [
    "# for chi-square test and as analogous to fisher's exact test\n",
    "\n",
    "from statsmodels.stats.power import GofChisquarePower\n",
    "\n",
    "n_bins = 2  # two categories (HUMAN/AI)\n",
    "\n",
    "analysis = GofChisquarePower()\n",
    "\n",
    "sample_size = analysis.solve_power(effect_size = effect_size, n_bins = n_bins, alpha = alpha, power = power_desired)\n",
    "optimal_sample_size = math.ceil(sample_size)\n",
    "\n",
    "print(\"Optimal total sample size (for chi-square goodness-of-fit):\", optimal_sample_size)"
   ]
  },
  {
   "cell_type": "code",
   "execution_count": null,
   "id": "c33f9764-aea7-4fa3-91a5-d3d8529312c1",
   "metadata": {},
   "outputs": [],
   "source": []
  }
 ],
 "metadata": {
  "kernelspec": {
   "display_name": "metal-engine",
   "language": "python",
   "name": "metal-engine"
  },
  "language_info": {
   "codemirror_mode": {
    "name": "ipython",
    "version": 3
   },
   "file_extension": ".py",
   "mimetype": "text/x-python",
   "name": "python",
   "nbconvert_exporter": "python",
   "pygments_lexer": "ipython3",
   "version": "3.9.16"
  }
 },
 "nbformat": 4,
 "nbformat_minor": 5
}
