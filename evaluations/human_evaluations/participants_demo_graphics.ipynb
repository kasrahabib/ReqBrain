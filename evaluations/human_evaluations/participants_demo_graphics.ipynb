{
 "cells": [
  {
   "cell_type": "code",
   "execution_count": 1,
   "id": "e294b6de-aae1-4b65-a5b4-2d7e349249d9",
   "metadata": {
    "tags": []
   },
   "outputs": [],
   "source": [
    "import numpy as np\n",
    "import pandas as pd\n",
    "import matplotlib.pyplot as plt"
   ]
  },
  {
   "cell_type": "code",
   "execution_count": 2,
   "id": "3144d62a-e455-43ec-a108-d916ce531e1f",
   "metadata": {
    "tags": []
   },
   "outputs": [],
   "source": [
    "import warnings\n",
    "\n",
    "warnings.simplefilter(action = 'ignore', category = FutureWarning)"
   ]
  },
  {
   "cell_type": "markdown",
   "id": "886ba450-6f17-4908-8775-d49ef5b0470b",
   "metadata": {},
   "source": [
    "# Preprocessing Functions"
   ]
  },
  {
   "cell_type": "code",
   "execution_count": 3,
   "id": "bcad1cf9-3ac9-4638-82af-2f4c4e696d36",
   "metadata": {
    "tags": []
   },
   "outputs": [],
   "source": [
    "def read_demographics(df):\n",
    "    df = df.drop(columns=[col for col in df.columns if 'Unnamed' in col])\n",
    "    df = df.dropna().reset_index(drop=True)\n",
    "    return df"
   ]
  },
  {
   "cell_type": "code",
   "execution_count": 4,
   "id": "79af58af-a2b4-4a7c-921e-697c6f4e49bd",
   "metadata": {
    "tags": []
   },
   "outputs": [],
   "source": [
    "participants = ['p1', 'p2', 'p3', 'p4']\n",
    "\n",
    "demo_graphics = [pd.read_excel(f'./{i}_human_evaluation/demographic_questions.xlsx').assign(participant=i) for i in participants]\n",
    "demo_graphics = [read_demographics(df) for df in demo_graphics]"
   ]
  },
  {
   "cell_type": "code",
   "execution_count": 5,
   "id": "0fd6fd70-3bc1-4f78-aaeb-357391d0d0fa",
   "metadata": {
    "tags": []
   },
   "outputs": [
    {
     "data": {
      "text/html": [
       "<div>\n",
       "<style scoped>\n",
       "    .dataframe tbody tr th:only-of-type {\n",
       "        vertical-align: middle;\n",
       "    }\n",
       "\n",
       "    .dataframe tbody tr th {\n",
       "        vertical-align: top;\n",
       "    }\n",
       "\n",
       "    .dataframe thead th {\n",
       "        text-align: right;\n",
       "    }\n",
       "</style>\n",
       "<table border=\"1\" class=\"dataframe\">\n",
       "  <thead>\n",
       "    <tr style=\"text-align: right;\">\n",
       "      <th></th>\n",
       "      <th>Education Level</th>\n",
       "      <th>Professional Background</th>\n",
       "      <th>Years of Experience in Software Development/Requirements Engineering</th>\n",
       "      <th>Familiarity with AI-Generated Content</th>\n",
       "      <th>Do you use generative AI tools (e.g., ChatGPT) for software development/Requirements Engineering?</th>\n",
       "      <th>participant</th>\n",
       "    </tr>\n",
       "  </thead>\n",
       "  <tbody>\n",
       "    <tr>\n",
       "      <th>0</th>\n",
       "      <td>Master’s Degree</td>\n",
       "      <td>Software Engineering/Development</td>\n",
       "      <td>1-3 years</td>\n",
       "      <td>Somewhat familiar</td>\n",
       "      <td>No</td>\n",
       "      <td>p1</td>\n",
       "    </tr>\n",
       "    <tr>\n",
       "      <th>0</th>\n",
       "      <td>Master’s Degree</td>\n",
       "      <td>Software Engineering/Development</td>\n",
       "      <td>4-6 years</td>\n",
       "      <td>Moderately familiar</td>\n",
       "      <td>Sometimes</td>\n",
       "      <td>p2</td>\n",
       "    </tr>\n",
       "    <tr>\n",
       "      <th>0</th>\n",
       "      <td>Master’s Degree</td>\n",
       "      <td>Software Engineering/Development</td>\n",
       "      <td>4-6 years</td>\n",
       "      <td>Very familiar</td>\n",
       "      <td>Yes</td>\n",
       "      <td>p3</td>\n",
       "    </tr>\n",
       "    <tr>\n",
       "      <th>0</th>\n",
       "      <td>Master’s Degree</td>\n",
       "      <td>Software Engineering/Development</td>\n",
       "      <td>1-3 years</td>\n",
       "      <td>Very familiar</td>\n",
       "      <td>Sometimes</td>\n",
       "      <td>p4</td>\n",
       "    </tr>\n",
       "  </tbody>\n",
       "</table>\n",
       "</div>"
      ],
      "text/plain": [
       "   Education Level           Professional Background  \\\n",
       "0  Master’s Degree  Software Engineering/Development   \n",
       "0  Master’s Degree  Software Engineering/Development   \n",
       "0  Master’s Degree  Software Engineering/Development   \n",
       "0  Master’s Degree  Software Engineering/Development   \n",
       "\n",
       "  Years of Experience in Software Development/Requirements Engineering  \\\n",
       "0                                          1-3 years                     \n",
       "0                                          4-6 years                     \n",
       "0                                          4-6 years                     \n",
       "0                                          1-3 years                     \n",
       "\n",
       "  Familiarity with AI-Generated Content  \\\n",
       "0                     Somewhat familiar   \n",
       "0                   Moderately familiar   \n",
       "0                         Very familiar   \n",
       "0                         Very familiar   \n",
       "\n",
       "  Do you use generative AI tools (e.g., ChatGPT) for software development/Requirements Engineering?  \\\n",
       "0                                                 No                                                  \n",
       "0                                          Sometimes                                                  \n",
       "0                                                Yes                                                  \n",
       "0                                          Sometimes                                                  \n",
       "\n",
       "  participant  \n",
       "0          p1  \n",
       "0          p2  \n",
       "0          p3  \n",
       "0          p4  "
      ]
     },
     "execution_count": 5,
     "metadata": {},
     "output_type": "execute_result"
    }
   ],
   "source": [
    "demo_graphics_concated = pd.concat(demo_graphics, axis = 0)\n",
    "demo_graphics_concated"
   ]
  },
  {
   "cell_type": "code",
   "execution_count": 6,
   "id": "fcb41c2c-247b-4f70-87cd-7e517e2665cc",
   "metadata": {
    "tags": []
   },
   "outputs": [
    {
     "name": "stdout",
     "output_type": "stream",
     "text": [
      "Overall Low Bound (in years): 2.50\n",
      "Overall High Bound (in years): 4.50\n",
      "Overall Average Experience (in years): 3.50\n"
     ]
    }
   ],
   "source": [
    "# Calculate the average experience range\n",
    "\n",
    "demo_graphics_concated[[\"Low Bound\", \"High Bound\"]] = demo_graphics_concated[\n",
    "    \"Years of Experience in Software Development/Requirements Engineering\"\n",
    "].str.extract(r\"(\\d+)-(\\d+)\").astype(float)\n",
    "\n",
    "\n",
    "demo_graphics_concated[\"Average Experience\"] = (demo_graphics_concated[\"Low Bound\"] + demo_graphics_concated[\"High Bound\"]) / 2\n",
    "\n",
    "overall_low_bound = demo_graphics_concated[\"Low Bound\"].mean()\n",
    "overall_high_bound = demo_graphics_concated[\"High Bound\"].mean()\n",
    "overall_average_experience = demo_graphics_concated[\"Average Experience\"].mean()\n",
    "\n",
    "print(f\"Overall Low Bound (in years): {overall_low_bound:.2f}\")\n",
    "print(f\"Overall High Bound (in years): {overall_high_bound:.2f}\")\n",
    "print(f\"Overall Average Experience (in years): {overall_average_experience:.2f}\")"
   ]
  },
  {
   "cell_type": "code",
   "execution_count": 7,
   "id": "aa094bf1-6d23-4d5b-a38b-60cb159470fb",
   "metadata": {
    "tags": []
   },
   "outputs": [
    {
     "data": {
      "image/png": "[encoded data removed]",
      "text/plain": [
       "<Figure size 800x500 with 1 Axes>"
      ]
     },
     "metadata": {},
     "output_type": "display_data"
    }
   ],
   "source": [
    "# Visualization 1: Distribution of Familiarity with AI\n",
    "familiarity_counts = demo_graphics_concated[\"Familiarity with AI-Generated Content\"].value_counts()\n",
    "plt.figure(figsize=(8, 5))\n",
    "plt.barh(familiarity_counts.index, familiarity_counts.values, color=\"skyblue\")\n",
    "plt.title(\"Familiarity with AI-Generated Content\")\n",
    "plt.xlabel(\"Count\")\n",
    "plt.ylabel(\"Familiarity Level\")\n",
    "plt.show()"
   ]
  },
  {
   "cell_type": "code",
   "execution_count": 8,
   "id": "0dd7de77-e66b-4f05-9c9d-8dd1a829d4f9",
   "metadata": {
    "tags": []
   },
   "outputs": [
    {
     "name": "stdout",
     "output_type": "stream",
     "text": [
      "Cross-tabulation of AI familiarity vs Tool usage:\n",
      " Do you use generative AI tools (e.g., ChatGPT) for software development/Requirements Engineering?  No  \\\n",
      "Familiarity with AI-Generated Content                                                                   \n",
      "Moderately familiar                                                                                 0   \n",
      "Somewhat familiar                                                                                   1   \n",
      "Very familiar                                                                                       0   \n",
      "\n",
      "Do you use generative AI tools (e.g., ChatGPT) for software development/Requirements Engineering?  Sometimes  \\\n",
      "Familiarity with AI-Generated Content                                                                          \n",
      "Moderately familiar                                                                                        1   \n",
      "Somewhat familiar                                                                                          0   \n",
      "Very familiar                                                                                              1   \n",
      "\n",
      "Do you use generative AI tools (e.g., ChatGPT) for software development/Requirements Engineering?  Yes  \n",
      "Familiarity with AI-Generated Content                                                                   \n",
      "Moderately familiar                                                                                  0  \n",
      "Somewhat familiar                                                                                    0  \n",
      "Very familiar                                                                                        1  \n",
      "Average Familiarity Score: 2.25\n"
     ]
    },
    {
     "data": {
      "image/png": "[encoded data removed]",
      "text/plain": [
       "<Figure size 600x600 with 1 Axes>"
      ]
     },
     "metadata": {},
     "output_type": "display_data"
    }
   ],
   "source": [
    "# Cross-tabulation: AI familiarity vs Tool usage\n",
    "crosstab = pd.crosstab(demo_graphics_concated[\"Familiarity with AI-Generated Content\"], \n",
    "                       demo_graphics_concated[\"Do you use generative AI tools (e.g., ChatGPT) for software development/Requirements Engineering?\"])\n",
    "print(\"Cross-tabulation of AI familiarity vs Tool usage:\\n\", crosstab)\n",
    "\n",
    "# Calculating average familiarity (assuming ordinal mapping: 1=Somewhat, 2=Moderately, 3=Very familiar)\n",
    "familiarity_mapping = {\"Somewhat familiar\": 1, \"Moderately familiar\": 2, \"Very familiar\": 3}\n",
    "demo_graphics_concated[\"Familiarity Score\"] = demo_graphics_concated[\"Familiarity with AI-Generated Content\"].map(familiarity_mapping)\n",
    "average_familiarity = demo_graphics_concated[\"Familiarity Score\"].mean()\n",
    "print(f\"Average Familiarity Score: {average_familiarity:.2f}\")\n",
    "\n",
    "usage_counts = demo_graphics_concated[\"Do you use generative AI tools (e.g., ChatGPT) for software development/Requirements Engineering?\"].value_counts()\n",
    "plt.figure(figsize=(6, 6))\n",
    "plt.pie(usage_counts.values, labels=usage_counts.index, autopct='%1.1f%%', startangle=90, colors=[\"lightblue\", \"orange\", \"green\"])\n",
    "plt.title(\"Generative AI Tool Usage\")\n",
    "plt.show()"
   ]
  }
 ],
 "metadata": {
  "kernelspec": {
   "display_name": "metal-engine",
   "language": "python",
   "name": "metal-engine"
  },
  "language_info": {
   "codemirror_mode": {
    "name": "ipython",
    "version": 3
   },
   "file_extension": ".py",
   "mimetype": "text/x-python",
   "name": "python",
   "nbconvert_exporter": "python",
   "pygments_lexer": "ipython3",
   "version": "3.9.16"
  }
 },
 "nbformat": 4,
 "nbformat_minor": 5
}
