{
 "cells": [
  {
   "cell_type": "code",
   "execution_count": 1,
   "id": "e294b6de-aae1-4b65-a5b4-2d7e349249d9",
   "metadata": {
    "tags": []
   },
   "outputs": [],
   "source": [
    "import base64\n",
    "import datasets\n",
    "import numpy as np\n",
    "import pandas as pd\n",
    "import matplotlib.pyplot as plt"
   ]
  },
  {
   "cell_type": "markdown",
   "id": "c73af835-d870-465a-8852-080306544c68",
   "metadata": {},
   "source": [
    "# Preprocessing Functions"
   ]
  },
  {
   "cell_type": "code",
   "execution_count": 2,
   "id": "48864511-56ff-4f8b-8271-435b144f4344",
   "metadata": {
    "tags": []
   },
   "outputs": [],
   "source": [
    "def decode_base64(item):\n",
    "    return base64.b64decode(item.encode()).decode('utf-8')"
   ]
  },
  {
   "cell_type": "code",
   "execution_count": 3,
   "id": "bcad1cf9-3ac9-4638-82af-2f4c4e696d36",
   "metadata": {
    "tags": []
   },
   "outputs": [],
   "source": [
    "def decode_human_ai_hash(df):\n",
    "    df = df.drop(columns=[col for col in df.columns if 'Unnamed' in col])\n",
    "    df = df.applymap(lambda x: x.replace('\\xa0', '').strip() if isinstance(x, str) else x)\n",
    "    nan_summary = df.isnull().sum()\n",
    "    print(\"Number of NaN values in each column:\\n\", nan_summary)\n",
    "    for column in df.columns:\n",
    "        if df[column].isnull().sum() > 0:\n",
    "            majority_value = df[column].mode()[0]\n",
    "            df[column].fillna(majority_value, inplace = True)\n",
    "    return df"
   ]
  },
  {
   "cell_type": "code",
   "execution_count": 4,
   "id": "79af58af-a2b4-4a7c-921e-697c6f4e49bd",
   "metadata": {
    "tags": []
   },
   "outputs": [
    {
     "name": "stdout",
     "output_type": "stream",
     "text": [
      "Number of NaN values in each column:\n",
      " component                                                                                                0\n",
      "zephyr_7b_beta_missing_requirments                                                                       0\n",
      "This requirement is consistent with other project requirements.                                          0\n",
      "This requirement accurately reflects the needs that were previously unstated, missing, or overlooked.    0\n",
      "Including this requirement would lead to a more complete set of project specifications.                  0\n",
      "dtype: int64\n",
      "Number of NaN values in each column:\n",
      " component                                                                                                0\n",
      "zephyr_7b_beta_missing_requirments                                                                       0\n",
      "This requirement is consistent with other project requirements.                                          0\n",
      "This requirement accurately reflects the needs that were previously unstated, missing, or overlooked.    0\n",
      "Including this requirement would lead to a more complete set of project specifications.                  0\n",
      "dtype: int64\n",
      "Number of NaN values in each column:\n",
      " component                                                                                                0\n",
      "zephyr_7b_beta_missing_requirments                                                                       0\n",
      "This requirement is consistent with other project requirements.                                          0\n",
      "This requirement accurately reflects the needs that were previously unstated, missing, or overlooked.    0\n",
      "Including this requirement would lead to a more complete set of project specifications.                  0\n",
      "dtype: int64\n",
      "Number of NaN values in each column:\n",
      " component                                                                                                0\n",
      "zephyr_7b_beta_missing_requirments                                                                       0\n",
      "This requirement is consistent with other project requirements.                                          0\n",
      "This requirement accurately reflects the needs that were previously unstated, missing, or overlooked.    0\n",
      "Including this requirement would lead to a more complete set of project specifications.                  0\n",
      "dtype: int64\n"
     ]
    },
    {
     "name": "stderr",
     "output_type": "stream",
     "text": [
      "/var/folders/sl/2p60p6g94jzf57rhnp2dng1h0000gn/T/ipykernel_56395/3822606932.py:3: FutureWarning: DataFrame.applymap has been deprecated. Use DataFrame.map instead.\n",
      "  df = df.applymap(lambda x: x.replace('\\xa0', '').strip() if isinstance(x, str) else x)\n",
      "/var/folders/sl/2p60p6g94jzf57rhnp2dng1h0000gn/T/ipykernel_56395/3822606932.py:3: FutureWarning: DataFrame.applymap has been deprecated. Use DataFrame.map instead.\n",
      "  df = df.applymap(lambda x: x.replace('\\xa0', '').strip() if isinstance(x, str) else x)\n",
      "/var/folders/sl/2p60p6g94jzf57rhnp2dng1h0000gn/T/ipykernel_56395/3822606932.py:3: FutureWarning: DataFrame.applymap has been deprecated. Use DataFrame.map instead.\n",
      "  df = df.applymap(lambda x: x.replace('\\xa0', '').strip() if isinstance(x, str) else x)\n",
      "/var/folders/sl/2p60p6g94jzf57rhnp2dng1h0000gn/T/ipykernel_56395/3822606932.py:3: FutureWarning: DataFrame.applymap has been deprecated. Use DataFrame.map instead.\n",
      "  df = df.applymap(lambda x: x.replace('\\xa0', '').strip() if isinstance(x, str) else x)\n"
     ]
    }
   ],
   "source": [
    "participants = ['p1', 'p2', 'p3', 'p4']\n",
    "\n",
    "human_assessed_requirements = [pd.read_excel(f'./{i}_human_evaluation/task_d/task_d.xlsx') for i in participants]\n",
    "human_assessed_requirements = [decode_human_ai_hash(df) for df in human_assessed_requirements]"
   ]
  },
  {
   "cell_type": "code",
   "execution_count": 5,
   "id": "15bab3ce-47c1-4aae-b25d-e11844ac0995",
   "metadata": {
    "tags": []
   },
   "outputs": [],
   "source": [
    "likert_label2id = {\n",
    "    'Strongly Disagree': 1,\n",
    "    'Disagree': 2,\n",
    "    'Neutral': 3,\n",
    "    'Agree': 4,\n",
    "    'Strongly Agree': 5\n",
    "}\n",
    "\n",
    "component_label2id = {\n",
    "    'self-evaluation': 0,\n",
    "    'adaptation functionality': 1,\n",
    "    'chat-bot': 2\n",
    "}\n",
    "\n",
    "likert_id2label = {v: k for k, v in zip(likert_label2id.keys(), likert_label2id.values())}\n",
    "component_id2label = {v: k for k, v in zip(component_label2id.keys(), component_label2id.values())}"
   ]
  },
  {
   "cell_type": "code",
   "execution_count": 6,
   "id": "0fd6fd70-3bc1-4f78-aaeb-357391d0d0fa",
   "metadata": {
    "tags": []
   },
   "outputs": [],
   "source": [
    "human_assessed_requirements_concated = pd.concat(human_assessed_requirements, axis = 0)\n",
    "\n",
    "compoenent = human_assessed_requirements_concated.columns[0]\n",
    "consistency, refelect_needs_missing, lead_to_more_complet = human_assessed_requirements_concated.columns[2:]"
   ]
  },
  {
   "cell_type": "code",
   "execution_count": 7,
   "id": "ec67cd29-faf0-4a27-8490-797a400a982d",
   "metadata": {
    "tags": []
   },
   "outputs": [
    {
     "data": {
      "text/html": [
       "<div>\n",
       "<style scoped>\n",
       "    .dataframe tbody tr th:only-of-type {\n",
       "        vertical-align: middle;\n",
       "    }\n",
       "\n",
       "    .dataframe tbody tr th {\n",
       "        vertical-align: top;\n",
       "    }\n",
       "\n",
       "    .dataframe thead th {\n",
       "        text-align: right;\n",
       "    }\n",
       "</style>\n",
       "<table border=\"1\" class=\"dataframe\">\n",
       "  <thead>\n",
       "    <tr style=\"text-align: right;\">\n",
       "      <th></th>\n",
       "      <th>component</th>\n",
       "      <th>zephyr_7b_beta_missing_requirments</th>\n",
       "      <th>This requirement is consistent with other project requirements.</th>\n",
       "      <th>This requirement accurately reflects the needs that were previously unstated, missing, or overlooked.</th>\n",
       "      <th>Including this requirement would lead to a more complete set of project specifications.</th>\n",
       "    </tr>\n",
       "  </thead>\n",
       "  <tbody>\n",
       "    <tr>\n",
       "      <th>0</th>\n",
       "      <td>0</td>\n",
       "      <td>1 - The Learning Platform with the test model ...</td>\n",
       "      <td>1</td>\n",
       "      <td>1</td>\n",
       "      <td>2</td>\n",
       "    </tr>\n",
       "    <tr>\n",
       "      <th>1</th>\n",
       "      <td>0</td>\n",
       "      <td>2 -The exercise shall evaluate the answers pro...</td>\n",
       "      <td>4</td>\n",
       "      <td>2</td>\n",
       "      <td>2</td>\n",
       "    </tr>\n",
       "    <tr>\n",
       "      <th>2</th>\n",
       "      <td>0</td>\n",
       "      <td>3 - The Learning Platform with the test module...</td>\n",
       "      <td>2</td>\n",
       "      <td>2</td>\n",
       "      <td>2</td>\n",
       "    </tr>\n",
       "  </tbody>\n",
       "</table>\n",
       "</div>"
      ],
      "text/plain": [
       "   component                 zephyr_7b_beta_missing_requirments  \\\n",
       "0          0  1 - The Learning Platform with the test model ...   \n",
       "1          0  2 -The exercise shall evaluate the answers pro...   \n",
       "2          0  3 - The Learning Platform with the test module...   \n",
       "\n",
       "   This requirement is consistent with other project requirements.  \\\n",
       "0                                                  1                 \n",
       "1                                                  4                 \n",
       "2                                                  2                 \n",
       "\n",
       "   This requirement accurately reflects the needs that were previously unstated, missing, or overlooked.  \\\n",
       "0                                                  1                                                       \n",
       "1                                                  2                                                       \n",
       "2                                                  2                                                       \n",
       "\n",
       "   Including this requirement would lead to a more complete set of project specifications.  \n",
       "0                                                  2                                        \n",
       "1                                                  2                                        \n",
       "2                                                  2                                        "
      ]
     },
     "execution_count": 7,
     "metadata": {},
     "output_type": "execute_result"
    }
   ],
   "source": [
    "# # mapping labels to id mapping\n",
    "\n",
    "human_assessed_requirements_concated[compoenent] = human_assessed_requirements_concated[compoenent].map(component_label2id)\n",
    "human_assessed_requirements_concated[consistency] = human_assessed_requirements_concated[consistency].map(likert_label2id)\n",
    "human_assessed_requirements_concated[refelect_needs_missing] = human_assessed_requirements_concated[refelect_needs_missing].map(likert_label2id)\n",
    "human_assessed_requirements_concated[lead_to_more_complet] = human_assessed_requirements_concated[lead_to_more_complet].map(likert_label2id)\n",
    "human_assessed_requirements_concated.head(3)"
   ]
  },
  {
   "cell_type": "markdown",
   "id": "e55dbf41-8382-4bab-af30-4adf48953784",
   "metadata": {},
   "source": [
    "# Descriptive Statistics (not shown on the paper)"
   ]
  },
  {
   "cell_type": "code",
   "execution_count": 8,
   "id": "05ee7a35-04c5-4b06-96c7-d5d51b44880b",
   "metadata": {
    "tags": []
   },
   "outputs": [],
   "source": [
    "# Ploting Likert percentage frequencies \n",
    "import plot_likert\n",
    "\n",
    "def prepare_data_for_likert_precentage_scale_plot(df, likert_columns):\n",
    "    \n",
    "    consistency_quality = likert_columns[0]\n",
    "    refelect_needs_missing_quality = likert_columns[1]\n",
    "    lead_to_more_complet_quality = likert_columns[2]\n",
    "\n",
    "    consistency = df[consistency_quality]\n",
    "    refelect_needs_missing = df[refelect_needs_missing_quality]\n",
    "    lead_to_more_complet = df[lead_to_more_complet_quality]\n",
    "\n",
    "    reformated_ = {\n",
    "        'Requirement Consistency': [likert_id2label[i] for i in consistency],\n",
    "        'Missing Requirements Reflection': [likert_id2label[i] for i in refelect_needs_missing],\n",
    "        'Requirements Set Completness': [likert_id2label[i] for i in lead_to_more_complet]\n",
    "    }\n",
    "\n",
    "    reformated_df_ = pd.DataFrame(reformated_)\n",
    "    return reformated_df_"
   ]
  },
  {
   "cell_type": "code",
   "execution_count": 9,
   "id": "de2d7d0a-8cf9-4056-9cc8-e8554b440b4c",
   "metadata": {
    "tags": []
   },
   "outputs": [],
   "source": [
    "self_evaluation_df = prepare_data_for_likert_precentage_scale_plot(human_assessed_requirements_concated, \n",
    "                                                                   likert_columns = [consistency, refelect_needs_missing, lead_to_more_complet])"
   ]
  },
  {
   "cell_type": "code",
   "execution_count": 10,
   "id": "46113271-e22a-4603-9e9d-ab8cadbe4371",
   "metadata": {
    "tags": []
   },
   "outputs": [
    {
     "name": "stderr",
     "output_type": "stream",
     "text": [
      "/Users/mohammadkasrahabib/miniforge3/envs/metal-engine/lib/python3.9/site-packages/plot_likert/plot_likert.py:257: FutureWarning: DataFrame.applymap has been deprecated. Use DataFrame.map instead.\n",
      "  df.applymap(validate)\n",
      "/Users/mohammadkasrahabib/miniforge3/envs/metal-engine/lib/python3.9/site-packages/plot_likert/plot_likert.py:310: FutureWarning: Series.__getitem__ treating keys as positions is deprecated. In a future version, integer keys will always be treated as labels (consistent with DataFrame behavior). To access a value by position, use `ser.iloc[pos]`\n",
      "  responses_to_first_question = responses_per_question[0]\n"
     ]
    },
    {
     "data": {
      "image/png": "[encoded data removed]",
      "text/plain": [
       "<Figure size 800x300 with 1 Axes>"
      ]
     },
     "metadata": {},
     "output_type": "display_data"
    }
   ],
   "source": [
    "plot_likert.__internal__.BAR_LABEL_FORMAT = \"%.0f\"\n",
    "\n",
    "# Setup some config for plot\n",
    "scale = likert_label2id.keys()\n",
    "my_color_scheme = [\n",
    "    plot_likert.colors.TRANSPARENT,\n",
    "    '#FF6347',  # Tomato (strong disagreement)\n",
    "    '#FF8266',  # Lighter tomato\n",
    "    '#F0E68C',  # Khaki (neutral color matching both)\n",
    "    '#40E0D0',  # Turquoise\n",
    "    '#48D1CC'   # Medium Turquoise (strong agreement)\n",
    "]\n",
    "\n",
    "\n",
    "fig, (ax) = plt.subplots(nrows = 1, ncols = 1, figsize = (8, 3))\n",
    "ax.set_title(\"Agreement\")\n",
    "plot_likert.plot_likert(self_evaluation_df, scale, plot_percentage = True,\n",
    "                        bar_labels = True, \n",
    "                        bar_labels_color = \"snow\", \n",
    "                        colors = my_color_scheme,\n",
    "                        ax = ax,\n",
    "                        legend = 0,\n",
    "                        width = 0.65)\n",
    "\n",
    "handles, labels = ax.get_legend_handles_labels()\n",
    "fig.legend(handles, labels, bbox_to_anchor = (1.23, .90))\n",
    "plt.tight_layout()\n",
    "\n",
    "plt.savefig('./raw_human_rating_plots_not/task_d_raw_ratings.png', dpi = 300)\n",
    "plt.show()"
   ]
  },
  {
   "cell_type": "markdown",
   "id": "63789bfd-5e02-4513-b848-08b904425847",
   "metadata": {},
   "source": [
    "# Inferential Statistics"
   ]
  },
  {
   "cell_type": "markdown",
   "id": "acb2d5c2-c780-40ae-98b4-145adde0add9",
   "metadata": {},
   "source": [
    "## Why Wilcoxon Signed-Rank Test Selected?\n",
    "\n",
    "The one-sample Wilcoxon signed-rank test is recommended over the one-sample t-test and the sign test for your Likert data, given its strengths in handling non-normal, ordinal data. Usman et al. note that while the t-test is powerful under normal distributions, it is less suitable when normality is in doubt, which can often be the case with Likert data [1]. The Wilcoxon test is preferred over the sign test as it accounts for both the direction and magnitude of differences, offering greater sensitivity and power, as highlighted by Divine et al. [2]. Arnold’s findings further indicate that, compared to the t-test, the Wilcoxon test maintains higher power for non-normal distributions, making it a robust choice for ordinal data [3]. Lastly, Randles emphasizes the Wilcoxon test’s efficiency compared to the t-test when data deviate from normality, underscoring its suitability for ordinal Likert scales [4].\n",
    "\n",
    "## References\n",
    "[1] Usman, M. \"Power Efficiency of Sign Test and Wilcoxon Signed Rank Test Relative to T-Test\", Mathematical Theory and Modeling, 2015.<br>\n",
    "[2] Divine, G. et al. \"A Review of Analysis and Sample Size Calculation Considerations for Wilcoxon Tests\", Anesthesia & Analgesia, 2013.<br>\n",
    "[3] Arnold, H. J. \"Small Sample Power of the One Sample Wilcoxon Test for Non-Normal Shift Alternatives\", The Annals of Mathematical Statistics, 1965.<br>\n",
    "[4] Randles, R. H. \"Wilcoxon Signed Rank Test\", Encyclopedia of Statistical Sciences, 2006."
   ]
  },
  {
   "cell_type": "code",
   "execution_count": 11,
   "id": "a51d8c6e-f0ba-495e-8110-509180a6a6d7",
   "metadata": {
    "tags": []
   },
   "outputs": [],
   "source": [
    "# Rank Biserial effect size\n",
    "import stikpetP as ps\n",
    "\n",
    "def rank_biserial(data, hypMed):\n",
    "    data = pd.Series(data)\n",
    "    return ps.r_rank_biserial_os(data, mu = hypMed)['rb'][0]"
   ]
  },
  {
   "cell_type": "code",
   "execution_count": 12,
   "id": "5ee8350b-d7ed-460b-8884-045fdd3184c0",
   "metadata": {
    "tags": []
   },
   "outputs": [],
   "source": [
    "# Wilcoxon Test and Bootstrap CI\n",
    "from scipy.stats import wilcoxon\n",
    "from scipy.stats import bootstrap\n",
    "\n",
    "\n",
    "def wilcoxon_rank_test(x, hypMed = 3, ci = 0.95):\n",
    "    x_median = x.median()\n",
    "    x_mean = x.mean()\n",
    "    sample_size = len(x)\n",
    "    print('Sample_ ', sample_size)\n",
    "    differences = np.array(x) - hypMed\n",
    "    test_statistic, p_value = wilcoxon(differences, alternative = \"greater\", zero_method = 'zsplit') # less -> left-tailed, use zero_method pratt, zsplit, wilcox\n",
    "    \n",
    "    print(f\"p_value: {p_value:.5f}\")\n",
    "    print(\"Wilcoxon statistic:\", test_statistic)\n",
    "\n",
    "    print(f'\\nMedian of the responses {x_median}')\n",
    "    print(f'Mean of the responses {x_mean}')\n",
    "    \n",
    "    std_dev = np.std(x, ddof=1)\n",
    "    print(f'Standard Deviation {std_dev}')\n",
    "    \n",
    "    rbc = rank_biserial(x, hypMed)\n",
    "    print(f\"\\neffect_size_rbc: {rbc:.5f}\")\n",
    "\n",
    "    resampled_medians = bootstrap((x,), lambda data: rank_biserial(data, hypMed), confidence_level = ci, n_resamples = 1000, method = 'basic', random_state = 42)\n",
    "    ci_lower, ci_upper = resampled_medians.confidence_interval\n",
    "    print(f\"\\n{int(ci * 100)}% Median CI: ({ci_lower:.5f}, {ci_upper:.5f})\")\n",
    "    return p_value"
   ]
  },
  {
   "cell_type": "markdown",
   "id": "4c5be263-5d5d-438a-b595-e0f682b20fd4",
   "metadata": {},
   "source": [
    "## **Variable Name:** Consistent with Requirements Set$_{(CRS)}$\n",
    "**Variable Description:** This requirement is consistent with other project requirements.\n",
    "\n",
    "### **Hypotheses:**\n",
    "\n",
    "- $H_{0,7}$: The median rating ($M$) for the Consistent with Requirements Set$_{(CRS)}$ is  $\\leq 3$.\n",
    "\n",
    "- **$H_{a,7}$:** The median rating for Consistent with Requirements Set$_{(CRS)}$ is $> 3$.\n",
    "\n",
    "---\n",
    "\n",
    "## **Report:**\n",
    "The results indicate support for the alternative hypothesis with $W = 7470.5$ and $p < 001$. The observed median rating was greater than the hypothesized median $Median = 3.0$. "
   ]
  },
  {
   "cell_type": "code",
   "execution_count": 13,
   "id": "fde175b7-002a-4b11-b7c7-1b4aef41fbf6",
   "metadata": {
    "tags": []
   },
   "outputs": [
    {
     "name": "stdout",
     "output_type": "stream",
     "text": [
      "Sample_  128\n",
      "p_value: 0.00000\n",
      "Wilcoxon statistic: 7470.5\n",
      "\n",
      "Median of the responses 4.0\n",
      "Mean of the responses 4.09375\n",
      "Standard Deviation 1.0228684385196782\n",
      "\n",
      "effect_size_rbc: 0.82489\n",
      "\n",
      "95% Median CI: (0.72938, 0.94663)\n"
     ]
    }
   ],
   "source": [
    "consistent = human_assessed_requirements_concated.loc[:, 'This requirement is consistent with other project requirements.']\n",
    "p_value_1 = wilcoxon_rank_test(consistent)"
   ]
  },
  {
   "cell_type": "markdown",
   "id": "8f7ab855-168f-4185-8c17-90f85e1b5b29",
   "metadata": {
    "tags": []
   },
   "source": [
    "## **Variable Name:** Identify Missing Requirements$_{(IMR)}$\n",
    "**Variable Description:** This requirement accurately reflects the needs that were previously unstated, missing, or overlooked\n",
    "\n",
    "\n",
    "### **Hypotheses:**\n",
    "\n",
    "- **$H_{0,8}$:** The median rating ($M$) for the Identify Missing Requirements$_{(IMR)}$ is $\\leq 3$.\n",
    "\n",
    "- **$H_{a,8}$:** The median rating for Identify Missing Requirements$_{(IMR)}$ is $> 3$.\n",
    "---\n",
    "\n",
    "## **Report:**\n",
    "The results indicate support for the alternative hypothesis with $W = 7035.0$ and $p < 001$. The observed median rating was greater than the hypothesized median $Median = 3.0$. "
   ]
  },
  {
   "cell_type": "code",
   "execution_count": 14,
   "id": "d6a75c73-a0c4-492b-805c-eaa4ea23958d",
   "metadata": {
    "tags": []
   },
   "outputs": [
    {
     "name": "stdout",
     "output_type": "stream",
     "text": [
      "Sample_  128\n",
      "p_value: 0.00000\n",
      "Wilcoxon statistic: 7035.0\n",
      "\n",
      "Median of the responses 4.0\n",
      "Mean of the responses 3.8671875\n",
      "Standard Deviation 1.0601670775323409\n",
      "\n",
      "effect_size_rbc: 0.71883\n",
      "\n",
      "95% Median CI: (0.58909, 0.85699)\n"
     ]
    }
   ],
   "source": [
    "missing = human_assessed_requirements_concated.loc[:, 'This requirement accurately reflects the needs that were previously unstated, missing, or overlooked.']\n",
    "p_value_2 = wilcoxon_rank_test(missing)"
   ]
  },
  {
   "cell_type": "markdown",
   "id": "18366c95-a687-4f47-b62e-3035e3bd26fa",
   "metadata": {
    "tags": []
   },
   "source": [
    "## **Variable Name:** Enhancing the Overall Completeness$_{(EOC)}$\n",
    "**Variable Description:** Including this requirement would lead to a more complete set of project specifications.\n",
    "\n",
    "\n",
    "- **$H_{0,9}$:** The median rating ($M$) for the Enhancing the Overall Completeness$_{(EOC)}$ is $\\leq 3$.\n",
    "\n",
    "- **$H_{a,9}$:** The median rating for Enhancing the Overall Completeness$_{(EOC)}$ is $> 3$\n",
    "\n",
    "---\n",
    "\n",
    "## **Report:**\n",
    "The results indicate support for the alternative hypothesis with $W = 6378.0$ and $p < 001$. The observed median rating was greater than the hypothesized median $Median = 3.0$. "
   ]
  },
  {
   "cell_type": "code",
   "execution_count": 15,
   "id": "d190d01f-6ca7-4e9b-b1b4-892a15ff5375",
   "metadata": {
    "tags": []
   },
   "outputs": [
    {
     "name": "stdout",
     "output_type": "stream",
     "text": [
      "Sample_  128\n",
      "p_value: 0.00000\n",
      "Wilcoxon statistic: 6378.0\n",
      "\n",
      "Median of the responses 4.0\n",
      "Mean of the responses 3.6328125\n",
      "Standard Deviation 1.1354772401911568\n",
      "\n",
      "effect_size_rbc: 0.57988\n",
      "\n",
      "95% Median CI: (0.44157, 0.74330)\n"
     ]
    }
   ],
   "source": [
    "complete = human_assessed_requirements_concated.loc[:, 'Including this requirement would lead to a more complete set of project specifications.']\n",
    "p_value_3 = wilcoxon_rank_test(complete)"
   ]
  },
  {
   "cell_type": "markdown",
   "id": "1bbe3a4e-6cac-4d62-95b1-bc50b9e71edc",
   "metadata": {
    "tags": []
   },
   "source": [
    "# Multiple Testing\n",
    "\n",
    "## **Report:** \n",
    "All the addjusted p-values using Holm-Bonferroni correction method is confirming the un-adjusted p-values."
   ]
  },
  {
   "cell_type": "code",
   "execution_count": 16,
   "id": "09ba7069-3ac5-4c76-8311-ab67c9ceba03",
   "metadata": {
    "tags": []
   },
   "outputs": [
    {
     "name": "stdout",
     "output_type": "stream",
     "text": [
      "Original p-values: ['0.00000', '0.00000', '0.00000']\n",
      "Adjusted p-values: ['0.00000', '0.00000', '0.00000']\n",
      "Reject null hypothesis: [ True  True  True]\n"
     ]
    }
   ],
   "source": [
    "from statsmodels.stats.multitest import multipletests\n",
    "\n",
    "# Example list of p-values\n",
    "pvals = [p_value_1, p_value_2, p_value_3]\n",
    "\n",
    "# Perform Holm-Bonferroni correction\n",
    "reject, pvals_corrected, _, _ = multipletests(pvals, alpha = 0.05, method = 'holm')\n",
    "\n",
    "print(\"Original p-values:\", [f\"{i:.5f}\" for i in pvals])\n",
    "print(\"Adjusted p-values:\", [f\"{i:.5f}\" for i in pvals_corrected])\n",
    "print(\"Reject null hypothesis:\", reject)"
   ]
  }
 ],
 "metadata": {
  "kernelspec": {
   "display_name": "metal-engine",
   "language": "python",
   "name": "metal-engine"
  },
  "language_info": {
   "codemirror_mode": {
    "name": "ipython",
    "version": 3
   },
   "file_extension": ".py",
   "mimetype": "text/x-python",
   "name": "python",
   "nbconvert_exporter": "python",
   "pygments_lexer": "ipython3",
   "version": "3.9.16"
  }
 },
 "nbformat": 4,
 "nbformat_minor": 5
}
