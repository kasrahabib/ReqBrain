{
 "cells": [
  {
   "cell_type": "code",
   "execution_count": 1,
   "id": "49be96bd-de36-48cd-8ecd-4f6048a8b3e0",
   "metadata": {},
   "outputs": [
    {
     "data": {
      "text/plain": [
       "'cuda:0'"
      ]
     },
     "execution_count": 1,
     "metadata": {},
     "output_type": "execute_result"
    }
   ],
   "source": [
    "import torch\n",
    "import transformers\n",
    "from torch import cuda, bfloat16\n",
    "\n",
    "\n",
    "device = f'cuda:{cuda.current_device()}' if cuda.is_available() else 'cpu'\n",
    "device"
   ]
  },
  {
   "cell_type": "code",
   "execution_count": 2,
   "id": "6b304279-e44b-41e4-9e9b-15aafc1572d3",
   "metadata": {},
   "outputs": [
    {
     "data": {
      "application/vnd.jupyter.widget-view+json": {
       "model_id": "47aa7b7fb02a40148e457adb14dc48bf",
       "version_major": 2,
       "version_minor": 0
      },
      "text/plain": [
       "Loading checkpoint shards:   0%|          | 0/3 [00:00<?, ?it/s]"
      ]
     },
     "metadata": {},
     "output_type": "display_data"
    },
    {
     "name": "stdout",
     "output_type": "stream",
     "text": [
      "Model loaded on cuda:0\n"
     ]
    }
   ],
   "source": [
    "model_name = 'kasrahabib/ReqBrain-falcon-7b'\n",
    "\n",
    "model = transformers.AutoModelForCausalLM.from_pretrained(model_name)\n",
    "tokenizer = transformers.AutoTokenizer.from_pretrained(model_name, use_fast = False)\n",
    "\n",
    "tokenizer.pad_token = tokenizer.eos_token\n",
    "tokenizer.padding_side = \"right\"\n",
    "\n",
    "model.eval()\n",
    "model.to(device)\n",
    "print(f\"Model loaded on {device}\")"
   ]
  },
  {
   "cell_type": "code",
   "execution_count": 89,
   "id": "abcdb1fb-447a-4033-81e1-2ff0bde8487d",
   "metadata": {},
   "outputs": [],
   "source": [
    "stop_token_ids = [\n",
    "    tokenizer.convert_tokens_to_ids(x) for x in [[\".**\"], [\"*)\"], [\".*\"], [\"***\"], [\"##\"], [\"###\"], [\"####\"], [\"###\", \"Assistant\", \":\"], [tokenizer.eos_token]]\n",
    "]\n",
    "\n",
    "stop_token_ids = [torch.LongTensor(x).to(device) for x in stop_token_ids]"
   ]
  },
  {
   "cell_type": "code",
   "execution_count": 90,
   "id": "106fa892-abd9-49fa-9dd3-4a27457a9281",
   "metadata": {},
   "outputs": [],
   "source": [
    "from transformers import StoppingCriteria, StoppingCriteriaList\n",
    "\n",
    "\n",
    "class StopOnTokens(StoppingCriteria):\n",
    "    def __call__(self, input_ids: torch.LongTensor, scores: torch.FloatTensor, **kwargs) -> bool:\n",
    "        for stop_ids in stop_token_ids:\n",
    "            if torch.eq(input_ids[0][-len(stop_ids):], stop_ids).all():\n",
    "                return True\n",
    "        return False\n",
    "\n",
    "stopping_criteria = StoppingCriteriaList([StopOnTokens()])"
   ]
  },
  {
   "cell_type": "code",
   "execution_count": 91,
   "id": "2c50a943-e82d-441b-a3ff-5aaa443b06e7",
   "metadata": {},
   "outputs": [],
   "source": [
    "pipe = transformers.pipeline(\n",
    "    model = model,\n",
    "    tokenizer = tokenizer,\n",
    "    return_full_text = False, # Set it to True when combining with LangChain\n",
    "    task = 'text-generation',\n",
    "    device = device,\n",
    "    stopping_criteria = stopping_criteria,  \n",
    "    temperature = 0.1,\n",
    "    top_p = 0.15,  \n",
    "    top_k = 0,  \n",
    "    max_new_tokens = 512,  \n",
    "    repetition_penalty = 1.3\n",
    ")"
   ]
  },
  {
   "cell_type": "code",
   "execution_count": 94,
   "id": "eff4e48f-be4a-4d68-b586-1049de280188",
   "metadata": {},
   "outputs": [],
   "source": [
    "import datasets\n",
    "\n",
    "evaluation_set = datasets.load_from_disk(\"models_prediction_dataset\")"
   ]
  },
  {
   "cell_type": "code",
   "execution_count": 96,
   "id": "b9117e19-2376-495f-ab91-8b03e2f92ef9",
   "metadata": {},
   "outputs": [
    {
     "data": {
      "text/plain": [
       "Dataset({\n",
       "    features: ['REQID_ex', 'completion', 'query', 'class', 'task', 'text', 'label', 'falcon_7b_instruct_preds', 'llama2_7b_chat_hf_preds', 'mistral_ai_instruct_7b_chat_hf_preds', 'zephyr_7b_beta_preds'],\n",
       "    num_rows: 34\n",
       "})"
      ]
     },
     "execution_count": 96,
     "metadata": {},
     "output_type": "execute_result"
    }
   ],
   "source": [
    "evaluation_set = evaluation_set.remove_columns('falcone_7b_base_preds')\n",
    "evaluation_set"
   ]
  },
  {
   "cell_type": "code",
   "execution_count": 97,
   "id": "a46eb4e7-8a89-4cc5-bc26-48ebd41da933",
   "metadata": {},
   "outputs": [
    {
     "name": "stderr",
     "output_type": "stream",
     "text": [
      "  0%|          | 0/34 [00:00<?, ?it/s]/home/st/st_us-051520/st_ac137798/.local/lib/python3.9/site-packages/transformers/generation/configuration_utils.py:381: UserWarning: `do_sample` is set to `False`. However, `temperature` is set to `0.1` -- this flag is only used in sample-based generation modes. You should set `do_sample=True` or unset `temperature`.\n",
      "  warnings.warn(\n",
      "/home/st/st_us-051520/st_ac137798/.local/lib/python3.9/site-packages/transformers/generation/configuration_utils.py:386: UserWarning: `do_sample` is set to `False`. However, `top_p` is set to `0.15` -- this flag is only used in sample-based generation modes. You should set `do_sample=True` or unset `top_p`.\n",
      "  warnings.warn(\n",
      "/home/st/st_us-051520/st_ac137798/.local/lib/python3.9/site-packages/transformers/generation/configuration_utils.py:396: UserWarning: `do_sample` is set to `False`. However, `top_k` is set to `0` -- this flag is only used in sample-based generation modes. You should set `do_sample=True` or unset `top_k`.\n",
      "  warnings.warn(\n",
      "Setting `pad_token_id` to `eos_token_id`:11 for open-end generation.\n",
      "  3%|▎         | 1/34 [00:00<00:28,  1.17it/s]Setting `pad_token_id` to `eos_token_id`:11 for open-end generation.\n",
      "  6%|▌         | 2/34 [00:03<01:09,  2.18s/it]Setting `pad_token_id` to `eos_token_id`:11 for open-end generation.\n",
      "  9%|▉         | 3/34 [00:05<00:57,  1.87s/it]Setting `pad_token_id` to `eos_token_id`:11 for open-end generation.\n",
      " 12%|█▏        | 4/34 [00:05<00:35,  1.17s/it]Setting `pad_token_id` to `eos_token_id`:11 for open-end generation.\n",
      " 15%|█▍        | 5/34 [00:32<05:03, 10.48s/it]Setting `pad_token_id` to `eos_token_id`:11 for open-end generation.\n",
      " 18%|█▊        | 6/34 [00:33<03:24,  7.31s/it]Setting `pad_token_id` to `eos_token_id`:11 for open-end generation.\n",
      " 21%|██        | 7/34 [00:59<05:57, 13.25s/it]Setting `pad_token_id` to `eos_token_id`:11 for open-end generation.\n",
      " 24%|██▎       | 8/34 [01:24<07:26, 17.17s/it]Setting `pad_token_id` to `eos_token_id`:11 for open-end generation.\n",
      " 26%|██▋       | 9/34 [01:26<05:06, 12.25s/it]/home/st/st_us-051520/st_ac137798/.local/lib/python3.9/site-packages/transformers/pipelines/base.py:1101: UserWarning: You seem to be using the pipelines sequentially on GPU. In order to maximize efficiency please use a dataset\n",
      "  warnings.warn(\n",
      "Setting `pad_token_id` to `eos_token_id`:11 for open-end generation.\n",
      " 29%|██▉       | 10/34 [01:28<03:37,  9.07s/it]Setting `pad_token_id` to `eos_token_id`:11 for open-end generation.\n",
      " 32%|███▏      | 11/34 [01:33<03:02,  7.92s/it]Setting `pad_token_id` to `eos_token_id`:11 for open-end generation.\n",
      " 35%|███▌      | 12/34 [01:58<04:51, 13.27s/it]Setting `pad_token_id` to `eos_token_id`:11 for open-end generation.\n",
      " 38%|███▊      | 13/34 [02:02<03:36, 10.30s/it]Setting `pad_token_id` to `eos_token_id`:11 for open-end generation.\n",
      " 41%|████      | 14/34 [02:05<02:42,  8.11s/it]Setting `pad_token_id` to `eos_token_id`:11 for open-end generation.\n",
      " 44%|████▍     | 15/34 [02:09<02:09,  6.80s/it]Setting `pad_token_id` to `eos_token_id`:11 for open-end generation.\n",
      " 47%|████▋     | 16/34 [02:14<01:53,  6.30s/it]Setting `pad_token_id` to `eos_token_id`:11 for open-end generation.\n",
      " 50%|█████     | 17/34 [02:16<01:25,  5.05s/it]Setting `pad_token_id` to `eos_token_id`:11 for open-end generation.\n",
      " 53%|█████▎    | 18/34 [02:19<01:08,  4.30s/it]Setting `pad_token_id` to `eos_token_id`:11 for open-end generation.\n",
      " 56%|█████▌    | 19/34 [02:20<00:50,  3.34s/it]Setting `pad_token_id` to `eos_token_id`:11 for open-end generation.\n",
      " 59%|█████▉    | 20/34 [02:21<00:39,  2.84s/it]Setting `pad_token_id` to `eos_token_id`:11 for open-end generation.\n",
      " 62%|██████▏   | 21/34 [02:22<00:30,  2.31s/it]Setting `pad_token_id` to `eos_token_id`:11 for open-end generation.\n",
      " 65%|██████▍   | 22/34 [02:24<00:23,  1.95s/it]Setting `pad_token_id` to `eos_token_id`:11 for open-end generation.\n",
      " 68%|██████▊   | 23/34 [02:25<00:18,  1.66s/it]Setting `pad_token_id` to `eos_token_id`:11 for open-end generation.\n",
      " 71%|███████   | 24/34 [02:25<00:14,  1.45s/it]Setting `pad_token_id` to `eos_token_id`:11 for open-end generation.\n",
      " 74%|███████▎  | 25/34 [02:27<00:12,  1.37s/it]Setting `pad_token_id` to `eos_token_id`:11 for open-end generation.\n",
      " 76%|███████▋  | 26/34 [02:29<00:12,  1.58s/it]Setting `pad_token_id` to `eos_token_id`:11 for open-end generation.\n",
      " 79%|███████▉  | 27/34 [02:31<00:12,  1.76s/it]Setting `pad_token_id` to `eos_token_id`:11 for open-end generation.\n",
      " 82%|████████▏ | 28/34 [02:39<00:21,  3.65s/it]Setting `pad_token_id` to `eos_token_id`:11 for open-end generation.\n",
      " 85%|████████▌ | 29/34 [02:40<00:14,  2.97s/it]Setting `pad_token_id` to `eos_token_id`:11 for open-end generation.\n",
      " 88%|████████▊ | 30/34 [03:05<00:38,  9.60s/it]Setting `pad_token_id` to `eos_token_id`:11 for open-end generation.\n",
      " 91%|█████████ | 31/34 [03:06<00:21,  7.03s/it]Setting `pad_token_id` to `eos_token_id`:11 for open-end generation.\n",
      "Setting `pad_token_id` to `eos_token_id`:11 for open-end generation.\n",
      " 97%|█████████▋| 33/34 [03:08<00:04,  4.11s/it]Setting `pad_token_id` to `eos_token_id`:11 for open-end generation.\n",
      "100%|██████████| 34/34 [03:09<00:00,  5.58s/it]\n"
     ]
    }
   ],
   "source": [
    "from tqdm import tqdm\n",
    "\n",
    "completion = []\n",
    "\n",
    "for query in tqdm(evaluation_set['query']):\n",
    "    result = pipe(f\"### Human: {query} ### Assistant: \")\n",
    "    result = result[0]['generated_text'].split('### Assistant:')[-1].strip(\".**\")\n",
    "    result = result.strip(\"*)\")\n",
    "    result = result.strip(\"Assistant:\")\n",
    "    result = result.strip(\".*\")\n",
    "    result = result.strip(\"***\")\n",
    "    result = result.strip(\"##\")\n",
    "    result = result.strip(\"###\")\n",
    "    result = result.strip(\"####\")\n",
    "    result = result.strip(\" \")\n",
    "    completion.append(result)"
   ]
  },
  {
   "cell_type": "code",
   "execution_count": 100,
   "id": "959783e8-e6c2-4529-8465-abb7c20c01df",
   "metadata": {},
   "outputs": [],
   "source": [
    "evaluation_set = evaluation_set.add_column(\"falcon_7b_base_preds\", completion)"
   ]
  },
  {
   "cell_type": "code",
   "execution_count": 101,
   "id": "1f81af70-6b34-4bbd-823f-6765bbf5faa2",
   "metadata": {},
   "outputs": [
    {
     "data": {
      "application/vnd.jupyter.widget-view+json": {
       "model_id": "bc18239bd0d24ebf9a22c3be31e7c0be",
       "version_major": 2,
       "version_minor": 0
      },
      "text/plain": [
       "Saving the dataset (0/1 shards):   0%|          | 0/34 [00:00<?, ? examples/s]"
      ]
     },
     "metadata": {},
     "output_type": "display_data"
    }
   ],
   "source": [
    "evaluation_set.save_to_disk(\"./models_prediction_dataset\")"
   ]
  },
  {
   "cell_type": "code",
   "execution_count": null,
   "id": "52b6a592-a25e-4773-99d3-ebb6bcbd27fd",
   "metadata": {},
   "outputs": [],
   "source": []
  }
 ],
 "metadata": {
  "kernelspec": {
   "display_name": "Python 3 (ipykernel)",
   "language": "python",
   "name": "python3"
  },
  "language_info": {
   "codemirror_mode": {
    "name": "ipython",
    "version": 3
   },
   "file_extension": ".py",
   "mimetype": "text/x-python",
   "name": "python",
   "nbconvert_exporter": "python",
   "pygments_lexer": "ipython3",
   "version": "3.9.16"
  }
 },
 "nbformat": 4,
 "nbformat_minor": 5
}
