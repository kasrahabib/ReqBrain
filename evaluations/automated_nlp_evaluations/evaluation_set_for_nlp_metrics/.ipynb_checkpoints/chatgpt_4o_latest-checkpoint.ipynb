{
 "cells": [
  {
   "cell_type": "code",
   "execution_count": 1,
   "id": "e78c3822-8abe-462c-b1ed-8d567c971560",
   "metadata": {
    "tags": []
   },
   "outputs": [
    {
     "data": {
      "text/plain": [
       "Dataset({\n",
       "    features: ['REQID_ex', 'completion', 'query', 'class', 'task', 'text', 'label', 'mistral_ai_instruct_7b_chat_hf_preds', 'falcon_7b_base_preds', 'falcon_7b_instruct_preds', 'llama2_7b_chat_hf_preds', 'zephyr_7b_beta_preds', 'openai_compe_gpt4o_24_11_20'],\n",
       "    num_rows: 34\n",
       "})"
      ]
     },
     "execution_count": 1,
     "metadata": {},
     "output_type": "execute_result"
    }
   ],
   "source": [
    "import datasets\n",
    "\n",
    "evaluation_set = datasets.load_from_disk(\"./models_prediction_dataset\")\n",
    "evaluation_set"
   ]
  },
  {
   "cell_type": "code",
   "execution_count": 2,
   "id": "647f453b-a7f1-4b1b-9922-31257f97ba77",
   "metadata": {},
   "outputs": [],
   "source": [
    "query = evaluation_set['query']\n",
    "instruction = \"You are a professional requirements engineer who helps users brainstorm more software requirements.\""
   ]
  },
  {
   "cell_type": "code",
   "execution_count": 3,
   "id": "56e47d18-e547-4422-bd1f-3220f2790598",
   "metadata": {
    "tags": []
   },
   "outputs": [],
   "source": [
    "from openai import OpenAI\n",
    "\n",
    "client = OpenAI(api_key = \"blinded-for-privacy\")"
   ]
  },
  {
   "cell_type": "code",
   "execution_count": 4,
   "id": "3c8e038c-3955-4aab-b6c3-69da8a0bd18f",
   "metadata": {
    "tags": []
   },
   "outputs": [],
   "source": [
    "def run_openai_model(model_name, query, instruction):\n",
    "    completion = client.chat.completions.create(\n",
    "        model = model_name,\n",
    "        messages=[\n",
    "            {\"role\": \"developer\", \"content\": instruction},\n",
    "            {\"role\": \"user\", \"content\": query}\n",
    "        ])\n",
    "    return completion.choices[0].message.content"
   ]
  },
  {
   "cell_type": "code",
   "execution_count": 5,
   "id": "2e737437-fff7-40b7-8af0-81766c313d0b",
   "metadata": {
    "tags": []
   },
   "outputs": [],
   "source": [
    "model_name = 'gpt-4o-2024-11-20'\n",
    "compe_gpt4o_24_11_20 = []\n",
    "\n",
    "for q in query:\n",
    "    gpt_response = run_openai_model(model_name, q, instruction)\n",
    "    compe_gpt4o_24_11_20.append(gpt_response)"
   ]
  },
  {
   "cell_type": "code",
   "execution_count": 6,
   "id": "e821d092-070b-4c34-adb2-92b6d5febbb7",
   "metadata": {
    "tags": []
   },
   "outputs": [],
   "source": [
    "evaluation_set = evaluation_set.add_column(\"openai_compe_gpt4o_24_11_20\", compe_gpt4o_24_11_20)"
   ]
  },
  {
   "cell_type": "code",
   "execution_count": 7,
   "id": "749a81d1-b713-467b-bed6-cd0297b8acc0",
   "metadata": {
    "tags": []
   },
   "outputs": [],
   "source": [
    "evaluation_set.save_to_disk(\"./models_prediction_dataset\")"
   ]
  },
  {
   "cell_type": "code",
   "execution_count": null,
   "id": "0467d11a-6a71-4596-b605-74900ae0bb6c",
   "metadata": {},
   "outputs": [],
   "source": []
  }
 ],
 "metadata": {
  "kernelspec": {
   "display_name": "metal-engine",
   "language": "python",
   "name": "metal-engine"
  },
  "language_info": {
   "codemirror_mode": {
    "name": "ipython",
    "version": 3
   },
   "file_extension": ".py",
   "mimetype": "text/x-python",
   "name": "python",
   "nbconvert_exporter": "python",
   "pygments_lexer": "ipython3",
   "version": "3.9.16"
  }
 },
 "nbformat": 4,
 "nbformat_minor": 5
}
