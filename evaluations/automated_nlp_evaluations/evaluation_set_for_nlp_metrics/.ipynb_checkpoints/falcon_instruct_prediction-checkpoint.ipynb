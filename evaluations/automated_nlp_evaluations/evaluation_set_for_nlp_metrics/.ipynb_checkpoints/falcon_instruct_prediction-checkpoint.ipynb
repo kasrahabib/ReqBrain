{
 "cells": [
  {
   "cell_type": "code",
   "execution_count": 1,
   "id": "49be96bd-de36-48cd-8ecd-4f6048a8b3e0",
   "metadata": {},
   "outputs": [
    {
     "data": {
      "text/plain": [
       "'cuda:0'"
      ]
     },
     "execution_count": 1,
     "metadata": {},
     "output_type": "execute_result"
    }
   ],
   "source": [
    "import torch\n",
    "import transformers\n",
    "from torch import cuda, bfloat16\n",
    "\n",
    "\n",
    "device = f'cuda:{cuda.current_device()}' if cuda.is_available() else 'cpu'\n",
    "device"
   ]
  },
  {
   "cell_type": "code",
   "execution_count": 2,
   "id": "6b304279-e44b-41e4-9e9b-15aafc1572d3",
   "metadata": {},
   "outputs": [
    {
     "data": {
      "application/vnd.jupyter.widget-view+json": {
       "model_id": "11e2b52dbab9498691688a164663f052",
       "version_major": 2,
       "version_minor": 0
      },
      "text/plain": [
       "Loading checkpoint shards:   0%|          | 0/3 [00:00<?, ?it/s]"
      ]
     },
     "metadata": {},
     "output_type": "display_data"
    },
    {
     "name": "stdout",
     "output_type": "stream",
     "text": [
      "Model loaded on cuda:0\n"
     ]
    }
   ],
   "source": [
    "model_name = 'kasrahabib/ReqBrain-falcon-7b-instruct'\n",
    "\n",
    "model = transformers.AutoModelForCausalLM.from_pretrained(model_name)\n",
    "tokenizer = transformers.AutoTokenizer.from_pretrained(model_name, use_fast = False)\n",
    "\n",
    "tokenizer.pad_token = tokenizer.eos_token\n",
    "tokenizer.padding_side = \"right\"\n",
    "\n",
    "model.eval()\n",
    "model.to(device)\n",
    "print(f\"Model loaded on {device}\")"
   ]
  },
  {
   "cell_type": "code",
   "execution_count": 26,
   "id": "cde096c3-21ab-4873-87e8-1f9fbafabc25",
   "metadata": {},
   "outputs": [],
   "source": [
    "___par = tokenizer.convert_ids_to_tokens(tokenizer(\"\\{#--\")[\"input_ids\"])[1:]\n",
    "___star_star = tokenizer.convert_ids_to_tokens(tokenizer(\"**.--\")[\"input_ids\"])[1:]\n",
    "___hash_hash = tokenizer.convert_ids_to_tokens(tokenizer(\".##\")[\"input_ids\"])[1:]\n",
    "___hash_hash_neg = tokenizer.convert_ids_to_tokens(tokenizer(\".##--\")[\"input_ids\"])[1:]\n",
    "___neg_neg = tokenizer.convert_ids_to_tokens(tokenizer(\".——\")[\"input_ids\"])[1:]\n",
    "___degree = tokenizer.convert_ids_to_tokens(tokenizer(\"。—\")[\"input_ids\"])[1:]"
   ]
  },
  {
   "cell_type": "code",
   "execution_count": 28,
   "id": "abcdb1fb-447a-4033-81e1-2ff0bde8487d",
   "metadata": {},
   "outputs": [],
   "source": [
    "tokenizer(\"End\")\n",
    "stop_token_ids = [\n",
    "    tokenizer.convert_tokens_to_ids(x) for x in  [___degree, ___neg_neg, ___hash_hash_neg, ___hash_hash, ___star_star, ___par, [\".**\"], [\"**\"], [\"***\"], [\"###\"], [\"####\"], [\"###\", \"Assistant\", \":\"], [tokenizer.eos_token]]\n",
    "]\n",
    "\n",
    "stop_token_ids = [torch.LongTensor(x).to(device) for x in stop_token_ids]"
   ]
  },
  {
   "cell_type": "code",
   "execution_count": 29,
   "id": "106fa892-abd9-49fa-9dd3-4a27457a9281",
   "metadata": {},
   "outputs": [],
   "source": [
    "from transformers import StoppingCriteria, StoppingCriteriaList\n",
    "\n",
    "\n",
    "class StopOnTokens(StoppingCriteria):\n",
    "    def __call__(self, input_ids: torch.LongTensor, scores: torch.FloatTensor, **kwargs) -> bool:\n",
    "        for stop_ids in stop_token_ids:\n",
    "            if torch.eq(input_ids[0][-len(stop_ids):], stop_ids).all():\n",
    "                return True\n",
    "        return False\n",
    "\n",
    "stopping_criteria = StoppingCriteriaList([StopOnTokens()])"
   ]
  },
  {
   "cell_type": "code",
   "execution_count": 30,
   "id": "2c50a943-e82d-441b-a3ff-5aaa443b06e7",
   "metadata": {},
   "outputs": [],
   "source": [
    "pipe = transformers.pipeline(\n",
    "    model = model,\n",
    "    tokenizer = tokenizer,\n",
    "    return_full_text = True, # Set it to True when combining with LangChain\n",
    "    task = 'text-generation',\n",
    "    device = device,\n",
    "    stopping_criteria = stopping_criteria,  \n",
    "    temperature = 0.1,\n",
    "    top_p = 0.15,  \n",
    "    top_k = 0,  \n",
    "    max_new_tokens = 512,  \n",
    "    repetition_penalty = 1.3\n",
    ")"
   ]
  },
  {
   "cell_type": "code",
   "execution_count": 31,
   "id": "9c031098-7830-4655-b48b-f3596c0a6a86",
   "metadata": {},
   "outputs": [
    {
     "data": {
      "text/plain": [
       "Dataset({\n",
       "    features: ['REQID_ex', 'completion', 'query', 'class', 'task', 'text', 'label', 'falcon_7b_instruct_preds', 'llama2_7b_chat_hf_preds', 'mistral_ai_instruct_7b_chat_hf_preds', 'zephyr_7b_beta_preds', 'falcon_7b_base_preds'],\n",
       "    num_rows: 34\n",
       "})"
      ]
     },
     "execution_count": 31,
     "metadata": {},
     "output_type": "execute_result"
    }
   ],
   "source": [
    "import datasets\n",
    "\n",
    "evaluation_set = datasets.load_from_disk(\"./models_prediction_dataset\")\n",
    "evaluation_set"
   ]
  },
  {
   "cell_type": "code",
   "execution_count": 32,
   "id": "eff4e48f-be4a-4d68-b586-1049de280188",
   "metadata": {},
   "outputs": [
    {
     "name": "stderr",
     "output_type": "stream",
     "text": [
      "  0%|          | 0/34 [00:00<?, ?it/s]/home/st/st_us-051520/st_ac137798/.local/lib/python3.9/site-packages/transformers/generation/configuration_utils.py:381: UserWarning: `do_sample` is set to `False`. However, `temperature` is set to `0.1` -- this flag is only used in sample-based generation modes. You should set `do_sample=True` or unset `temperature`.\n",
      "  warnings.warn(\n",
      "/home/st/st_us-051520/st_ac137798/.local/lib/python3.9/site-packages/transformers/generation/configuration_utils.py:386: UserWarning: `do_sample` is set to `False`. However, `top_p` is set to `0.15` -- this flag is only used in sample-based generation modes. You should set `do_sample=True` or unset `top_p`.\n",
      "  warnings.warn(\n",
      "/home/st/st_us-051520/st_ac137798/.local/lib/python3.9/site-packages/transformers/generation/configuration_utils.py:396: UserWarning: `do_sample` is set to `False`. However, `top_k` is set to `0` -- this flag is only used in sample-based generation modes. You should set `do_sample=True` or unset `top_k`.\n",
      "  warnings.warn(\n",
      "Setting `pad_token_id` to `eos_token_id`:11 for open-end generation.\n",
      "  3%|▎         | 1/34 [00:02<01:09,  2.12s/it]Setting `pad_token_id` to `eos_token_id`:11 for open-end generation.\n",
      "  6%|▌         | 2/34 [00:04<01:17,  2.42s/it]Setting `pad_token_id` to `eos_token_id`:11 for open-end generation.\n",
      "  9%|▉         | 3/34 [00:06<01:09,  2.26s/it]Setting `pad_token_id` to `eos_token_id`:11 for open-end generation.\n",
      " 12%|█▏        | 4/34 [00:08<01:04,  2.14s/it]Setting `pad_token_id` to `eos_token_id`:11 for open-end generation.\n",
      " 15%|█▍        | 5/34 [00:11<01:06,  2.30s/it]Setting `pad_token_id` to `eos_token_id`:11 for open-end generation.\n",
      " 18%|█▊        | 6/34 [00:36<04:41, 10.06s/it]Setting `pad_token_id` to `eos_token_id`:11 for open-end generation.\n",
      " 21%|██        | 7/34 [00:39<03:33,  7.89s/it]Setting `pad_token_id` to `eos_token_id`:11 for open-end generation.\n",
      " 24%|██▎       | 8/34 [01:05<05:48, 13.40s/it]Setting `pad_token_id` to `eos_token_id`:11 for open-end generation.\n",
      " 26%|██▋       | 9/34 [01:07<04:07,  9.89s/it]Setting `pad_token_id` to `eos_token_id`:11 for open-end generation.\n",
      " 29%|██▉       | 10/34 [01:08<02:54,  7.29s/it]/home/st/st_us-051520/st_ac137798/.local/lib/python3.9/site-packages/transformers/pipelines/base.py:1101: UserWarning: You seem to be using the pipelines sequentially on GPU. In order to maximize efficiency please use a dataset\n",
      "  warnings.warn(\n",
      "Setting `pad_token_id` to `eos_token_id`:11 for open-end generation.\n",
      " 32%|███▏      | 11/34 [01:12<02:19,  6.07s/it]Setting `pad_token_id` to `eos_token_id`:11 for open-end generation.\n",
      " 35%|███▌      | 12/34 [01:13<01:45,  4.81s/it]Setting `pad_token_id` to `eos_token_id`:11 for open-end generation.\n",
      " 38%|███▊      | 13/34 [01:16<01:27,  4.17s/it]Setting `pad_token_id` to `eos_token_id`:11 for open-end generation.\n",
      " 41%|████      | 14/34 [01:20<01:20,  4.01s/it]Setting `pad_token_id` to `eos_token_id`:11 for open-end generation.\n",
      " 44%|████▍     | 15/34 [01:22<01:02,  3.31s/it]Setting `pad_token_id` to `eos_token_id`:11 for open-end generation.\n",
      " 47%|████▋     | 16/34 [01:39<02:15,  7.54s/it]Setting `pad_token_id` to `eos_token_id`:11 for open-end generation.\n",
      " 50%|█████     | 17/34 [01:40<01:35,  5.61s/it]Setting `pad_token_id` to `eos_token_id`:11 for open-end generation.\n",
      " 53%|█████▎    | 18/34 [01:43<01:16,  4.79s/it]Setting `pad_token_id` to `eos_token_id`:11 for open-end generation.\n",
      " 56%|█████▌    | 19/34 [01:45<01:01,  4.12s/it]Setting `pad_token_id` to `eos_token_id`:11 for open-end generation.\n",
      " 59%|█████▉    | 20/34 [02:11<02:25, 10.43s/it]Setting `pad_token_id` to `eos_token_id`:11 for open-end generation.\n",
      " 62%|██████▏   | 21/34 [02:14<01:46,  8.19s/it]Setting `pad_token_id` to `eos_token_id`:11 for open-end generation.\n",
      " 65%|██████▍   | 22/34 [02:16<01:16,  6.34s/it]Setting `pad_token_id` to `eos_token_id`:11 for open-end generation.\n",
      " 68%|██████▊   | 23/34 [02:18<00:57,  5.23s/it]Setting `pad_token_id` to `eos_token_id`:11 for open-end generation.\n",
      " 71%|███████   | 24/34 [02:22<00:48,  4.85s/it]Setting `pad_token_id` to `eos_token_id`:11 for open-end generation.\n",
      " 74%|███████▎  | 25/34 [02:39<01:15,  8.42s/it]Setting `pad_token_id` to `eos_token_id`:11 for open-end generation.\n",
      " 76%|███████▋  | 26/34 [02:40<00:50,  6.35s/it]Setting `pad_token_id` to `eos_token_id`:11 for open-end generation.\n",
      " 79%|███████▉  | 27/34 [02:44<00:38,  5.52s/it]Setting `pad_token_id` to `eos_token_id`:11 for open-end generation.\n",
      " 82%|████████▏ | 28/34 [02:45<00:25,  4.23s/it]Setting `pad_token_id` to `eos_token_id`:11 for open-end generation.\n",
      " 85%|████████▌ | 29/34 [03:00<00:37,  7.42s/it]Setting `pad_token_id` to `eos_token_id`:11 for open-end generation.\n",
      " 88%|████████▊ | 30/34 [03:01<00:21,  5.49s/it]Setting `pad_token_id` to `eos_token_id`:11 for open-end generation.\n",
      " 91%|█████████ | 31/34 [03:04<00:14,  4.81s/it]Setting `pad_token_id` to `eos_token_id`:11 for open-end generation.\n",
      " 94%|█████████▍| 32/34 [03:05<00:07,  3.73s/it]Setting `pad_token_id` to `eos_token_id`:11 for open-end generation.\n",
      " 97%|█████████▋| 33/34 [03:08<00:03,  3.43s/it]Setting `pad_token_id` to `eos_token_id`:11 for open-end generation.\n",
      "100%|██████████| 34/34 [03:10<00:00,  5.62s/it]\n"
     ]
    }
   ],
   "source": [
    "from tqdm import tqdm\n",
    "\n",
    "completion = []\n",
    "\n",
    "for query in tqdm(evaluation_set['query']):\n",
    "    result = pipe(f\"### Human: {query} ### Assistant: \")\n",
    "    result = result[0]['generated_text'].split(\"### Assistant:\")[-1].strip(\".——\")\n",
    "    result = result.strip(\"Assistant:\")\n",
    "    result = result.strip(\".##--\")\n",
    "    result = result.strip(\".##\")\n",
    "    result = result.strip(\"**.--\")\n",
    "    result = result.strip(\"{#--\")\n",
    "    result = result.strip(\".**\")\n",
    "    result = result.strip(\"**\")\n",
    "    result = result.strip(\"***\")\n",
    "    result = result.strip(\"###\")\n",
    "    result = result.strip(\"####\")\n",
    "    result = result.strip(\"### Assistant:\")\n",
    "    result = result.strip(\"。\")\n",
    "    result = result.strip(\" \")\n",
    "    completion.append(result)"
   ]
  },
  {
   "cell_type": "code",
   "execution_count": 35,
   "id": "a3064f0c-7bad-40a2-bf39-74c1cfdc56c9",
   "metadata": {},
   "outputs": [],
   "source": [
    "evaluation_set = evaluation_set.add_column(\"falcon_7b_instruct_preds\", completion)"
   ]
  },
  {
   "cell_type": "code",
   "execution_count": 36,
   "id": "f8db3fcd-20a1-4af5-ac1a-a45346d6a435",
   "metadata": {},
   "outputs": [
    {
     "data": {
      "application/vnd.jupyter.widget-view+json": {
       "model_id": "96088bd8be2042be9f62761ee430ad91",
       "version_major": 2,
       "version_minor": 0
      },
      "text/plain": [
       "Saving the dataset (0/1 shards):   0%|          | 0/34 [00:00<?, ? examples/s]"
      ]
     },
     "metadata": {},
     "output_type": "display_data"
    }
   ],
   "source": [
    "evaluation_set.save_to_disk(\"./models_prediction_dataset\")"
   ]
  }
 ],
 "metadata": {
  "kernelspec": {
   "display_name": "Python 3 (ipykernel)",
   "language": "python",
   "name": "python3"
  },
  "language_info": {
   "codemirror_mode": {
    "name": "ipython",
    "version": 3
   },
   "file_extension": ".py",
   "mimetype": "text/x-python",
   "name": "python",
   "nbconvert_exporter": "python",
   "pygments_lexer": "ipython3",
   "version": "3.9.16"
  }
 },
 "nbformat": 4,
 "nbformat_minor": 5
}
