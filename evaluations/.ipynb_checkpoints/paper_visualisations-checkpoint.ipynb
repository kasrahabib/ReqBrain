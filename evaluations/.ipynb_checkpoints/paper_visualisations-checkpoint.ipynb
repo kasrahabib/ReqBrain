{
 "cells": [
  {
   "cell_type": "markdown",
   "id": "933e1ec1-d09f-41ce-a93f-dd29023e5ff5",
   "metadata": {},
   "source": [
    "# Common imports"
   ]
  },
  {
   "cell_type": "code",
   "execution_count": 1,
   "id": "ea401c74-63cd-4d76-b9e4-df0c5fd78c0a",
   "metadata": {
    "tags": []
   },
   "outputs": [],
   "source": [
    "import datasets\n",
    "\n",
    "import numpy as np\n",
    "import pandas as pd\n",
    "import seaborn as sns\n",
    "import matplotlib.pyplot as plt\n",
    "\n",
    "np.random.seed(42)"
   ]
  },
  {
   "cell_type": "markdown",
   "id": "a2dfbbae-9a4a-47b8-8867-7053cdacc066",
   "metadata": {
    "tags": []
   },
   "source": [
    "# Instruct Dataset Training and Validation Sets Distribution"
   ]
  },
  {
   "cell_type": "code",
   "execution_count": 2,
   "id": "319bb8ed-f4de-4a6c-869a-5224465f8678",
   "metadata": {
    "tags": []
   },
   "outputs": [],
   "source": [
    "tt_dataset = datasets.load_from_disk('../instruct_datasets/falcon_requirement_generation_dataset/')"
   ]
  },
  {
   "cell_type": "code",
   "execution_count": 3,
   "id": "f09886f7-ff80-46e1-ba5c-52a16e942b11",
   "metadata": {
    "tags": []
   },
   "outputs": [
    {
     "data": {
      "text/plain": [
       "DatasetDict({\n",
       "    train: Dataset({\n",
       "        features: ['REQID_ex', 'completion', 'query', 'class', 'task', 'text', 'label'],\n",
       "        num_rows: 132\n",
       "    })\n",
       "    test: Dataset({\n",
       "        features: ['REQID_ex', 'completion', 'query', 'class', 'task', 'text', 'label'],\n",
       "        num_rows: 34\n",
       "    })\n",
       "})"
      ]
     },
     "execution_count": 3,
     "metadata": {},
     "output_type": "execute_result"
    }
   ],
   "source": [
    "tt_dataset"
   ]
  },
  {
   "cell_type": "code",
   "execution_count": 4,
   "id": "302f7cd3-eed7-4ff5-8d40-f79806e4d381",
   "metadata": {
    "tags": []
   },
   "outputs": [
    {
     "data": {
      "text/plain": [
       "(array(['A', 'FT', 'HOW-TO-WRITE-REQUIRMENT-TASK-SWARD-BASED', 'L', 'LF',\n",
       "        'MISSING-TASK-5-SHORTENED', 'MN', 'O', 'PE', 'PO', 'SC', 'SE',\n",
       "        'US'], dtype='<U40'),\n",
       " array([ 8,  8, 40,  8,  8,  4,  8,  8,  8,  8,  8,  8,  8]))"
      ]
     },
     "execution_count": 4,
     "metadata": {},
     "output_type": "execute_result"
    }
   ],
   "source": [
    "np.unique(tt_dataset['train']['class'], return_counts = True)"
   ]
  },
  {
   "cell_type": "code",
   "execution_count": 5,
   "id": "387e5942-5ac7-4337-9c88-02ca7f322f1a",
   "metadata": {
    "tags": []
   },
   "outputs": [],
   "source": [
    "# Renaming some columns\n",
    "\n",
    "def rename_tasks(column):\n",
    "    task_mapping = {'NF-TYPES-TASK-PROMISE': 'RE-types INST',\n",
    "                    'NF-TYPES-TASK-PO': 'RE-types INST',\n",
    "                    'MISSING-TASK-5-SHORTENED': 'Missing INST',\n",
    "                    'HOW-TO-WRITE-REQUIRMENT-TASK-SWARD-BASED': 'How-to? INST'}\n",
    "    tasks = column['task']\n",
    "    if isinstance(tasks, str):\n",
    "        tasks = task_mapping[tasks]\n",
    "    \n",
    "    if isinstance(tasks, list):\n",
    "        renamed_list = []\n",
    "        for task in tasks:\n",
    "            renamed_list.append(task_mapping[task])\n",
    "        tasks = renamed_list\n",
    "\n",
    "    return {'renamed_tasks': tasks}"
   ]
  },
  {
   "cell_type": "code",
   "execution_count": 6,
   "id": "ea8428a5-012d-4ea5-a607-8703b9e3665a",
   "metadata": {
    "tags": []
   },
   "outputs": [],
   "source": [
    "tt_dataset = tt_dataset.map(rename_tasks, batched = True)"
   ]
  },
  {
   "cell_type": "code",
   "execution_count": 7,
   "id": "98dfcdd0-cd87-4a1d-83da-5a70bae34878",
   "metadata": {
    "tags": []
   },
   "outputs": [],
   "source": [
    "train_distro = np.unique(tt_dataset['train']['renamed_tasks'], return_counts = True)\n",
    "test_distro = np.unique(tt_dataset['test']['renamed_tasks'], return_counts = True)"
   ]
  },
  {
   "cell_type": "code",
   "execution_count": 8,
   "id": "cde9c6df-c96e-4856-b3dd-ab8945c19770",
   "metadata": {
    "tags": []
   },
   "outputs": [
    {
     "data": {
      "image/png": "[encoded data removed]",
      "text/plain": [
       "<Figure size 750x380 with 2 Axes>"
      ]
     },
     "metadata": {},
     "output_type": "display_data"
    }
   ],
   "source": [
    "plt.figure(figsize=(7.5, 3.8))\n",
    "\n",
    "# ploting the training set\n",
    "plt.subplot(121)\n",
    "bars_train = plt.bar(train_distro[0], train_distro[1], color='skyblue', edgecolor='black')\n",
    "plt.xticks(rotation=0)\n",
    "plt.title('Training')\n",
    "\n",
    "for bar in bars_train:\n",
    "    yval = bar.get_height()\n",
    "    plt.text(bar.get_x() + bar.get_width() / 2, yval, round(yval, 2), ha='center', va='bottom', color='black', fontsize=9)\n",
    "\n",
    "# ploting evaluation set\n",
    "plt.subplot(122)\n",
    "bars_test = plt.bar(test_distro[0], test_distro[1], color = 'salmon', edgecolor='black')\n",
    "plt.title('Evaluation')\n",
    "plt.xticks(rotation=0)\n",
    "\n",
    "for bar in bars_test:\n",
    "    yval = bar.get_height()\n",
    "    plt.text(bar.get_x() + bar.get_width() / 2, yval, round(yval, 2), ha='center', va='bottom', color='black', fontsize=9)\n",
    "\n",
    "plt.tight_layout()\n",
    "plt.savefig('./train_eval_set.pdf', bbox_inches = 'tight')\n",
    "plt.show()"
   ]
  },
  {
   "cell_type": "markdown",
   "id": "00fcb54d-8c74-41fd-b3bb-1edf50c4b33a",
   "metadata": {
    "tags": []
   },
   "source": [
    "# Spider Chart: Evaluating Models per Task (BERT and FRUGAL scores)"
   ]
  },
  {
   "cell_type": "code",
   "execution_count": 9,
   "id": "c29af681-3707-41db-9351-290124c4324a",
   "metadata": {
    "tags": []
   },
   "outputs": [
    {
     "data": {
      "application/vnd.jupyter.widget-view+json": {
       "model_id": "05260522eebc4fcdb973082db33fdca5",
       "version_major": 2,
       "version_minor": 0
      },
      "text/plain": [
       "Map:   0%|          | 0/34 [00:00<?, ? examples/s]"
      ]
     },
     "metadata": {},
     "output_type": "display_data"
    }
   ],
   "source": [
    "# Loading the dataset\n",
    "# dataset_for_spider_chart dataset is equalent to previously loaded dataset, it contains some\n",
    "# columns differently formated such that could be ploted as spider (radar) chart\n",
    "\n",
    "spider_chart_dataset = datasets.load_from_disk('./dataset_for_spider_chart/')\n",
    "spider_chart_dataset = spider_chart_dataset.map(rename_tasks, batched = True)\n",
    "spider_chart_dataset.set_format(type = 'pandas')\n",
    "spider_chart_df = spider_chart_dataset[:]\n",
    "spider_chart_dataset.reset_format()"
   ]
  },
  {
   "cell_type": "code",
   "execution_count": 10,
   "id": "add15ea2-837d-42f0-a2b4-6f0d7fa34a2a",
   "metadata": {
    "tags": []
   },
   "outputs": [
    {
     "data": {
      "text/plain": [
       "Dataset({\n",
       "    features: ['REQID_ex', 'completion', 'query', 'class', 'task', 'text', 'label', 'mistral_ai_instruct_7b_chat_hf_preds', 'falcon_7b_base_preds', 'falcon_7b_instruct_preds', 'llama2_7b_chat_hf_preds', 'zephyr_7b_beta_preds', 'open_ai_gpt4', 'openai_compe_gpt4o_24_11_20', 'gpt_4_frugal_score', 'gpt4_bert_score', 'openai_compe_gpt4o_24_11_20_frugal_score', 'openai_compe_gpt4o_24_11_20_bert_score', 'zephyr_frugal_score', 'zephyr_bert_score', 'mistralai_frugal_score', 'mistralai_bert_score', 'falcon_base_frugal_score', 'falcon_base_bert_score', 'falcon_frugal_score', 'falcon_bert_score', 'llama_frugal_score', 'llama_bert_score', 'renamed_tasks'],\n",
       "    num_rows: 34\n",
       "})"
      ]
     },
     "execution_count": 10,
     "metadata": {},
     "output_type": "execute_result"
    }
   ],
   "source": [
    "spider_chart_dataset"
   ]
  },
  {
   "cell_type": "code",
   "execution_count": 20,
   "id": "2f9ba4d5-4db4-4505-b886-84104828fde8",
   "metadata": {
    "tags": []
   },
   "outputs": [],
   "source": [
    "# isolating columns that contain scores with respect to each score\n",
    "\n",
    "frugal_labels = spider_chart_df.columns[-13:-1].to_numpy()[0::2]\n",
    "bert_labels = spider_chart_df.columns[-12:].to_numpy()[0::2]"
   ]
  },
  {
   "cell_type": "code",
   "execution_count": 21,
   "id": "17d744db-61de-476d-a3f8-8fad9fcf6630",
   "metadata": {
    "tags": []
   },
   "outputs": [
    {
     "name": "stderr",
     "output_type": "stream",
     "text": [
      "/var/folders/sl/2p60p6g94jzf57rhnp2dng1h0000gn/T/ipykernel_86491/3950167358.py:4: FutureWarning: DataFrame.applymap has been deprecated. Use DataFrame.map instead.\n",
      "  frugal_stats = frugal_stats.applymap(lambda x: np.ceil(x)).astype(int)\n",
      "/var/folders/sl/2p60p6g94jzf57rhnp2dng1h0000gn/T/ipykernel_86491/3950167358.py:7: FutureWarning: DataFrame.applymap has been deprecated. Use DataFrame.map instead.\n",
      "  bert_stats = bert_stats.applymap(lambda x: np.ceil(x)).astype(int)\n"
     ]
    }
   ],
   "source": [
    "# rconverting the scores from 0 - 1 to 0 - 100 and rounding them up\n",
    "\n",
    "frugal_stats = spider_chart_df.groupby(by = 'renamed_tasks')[frugal_labels].mean() * 100\n",
    "frugal_stats = frugal_stats.applymap(lambda x: np.ceil(x)).astype(int)\n",
    "\n",
    "bert_stats = spider_chart_df.groupby(by = 'renamed_tasks')[bert_labels].mean() * 100\n",
    "bert_stats = bert_stats.applymap(lambda x: np.ceil(x)).astype(int)\n",
    "\n",
    "frugal_stats = frugal_stats.T\n",
    "bert_stats = bert_stats.T"
   ]
  },
  {
   "cell_type": "code",
   "execution_count": 22,
   "id": "7bdcefb5-a319-4cd2-8fc3-53cf8425ae22",
   "metadata": {
    "tags": []
   },
   "outputs": [
    {
     "data": {
      "text/html": [
       "<div>\n",
       "<style scoped>\n",
       "    .dataframe tbody tr th:only-of-type {\n",
       "        vertical-align: middle;\n",
       "    }\n",
       "\n",
       "    .dataframe tbody tr th {\n",
       "        vertical-align: top;\n",
       "    }\n",
       "\n",
       "    .dataframe thead th {\n",
       "        text-align: right;\n",
       "    }\n",
       "</style>\n",
       "<table border=\"1\" class=\"dataframe\">\n",
       "  <thead>\n",
       "    <tr style=\"text-align: right;\">\n",
       "      <th>renamed_tasks</th>\n",
       "      <th>How-to? INST</th>\n",
       "      <th>Missing INST</th>\n",
       "      <th>RE-types INST</th>\n",
       "    </tr>\n",
       "  </thead>\n",
       "  <tbody>\n",
       "    <tr>\n",
       "      <th>openai_compe_gpt4o_24_11_20_frugal_score</th>\n",
       "      <td>86</td>\n",
       "      <td>88</td>\n",
       "      <td>87</td>\n",
       "    </tr>\n",
       "    <tr>\n",
       "      <th>zephyr_frugal_score</th>\n",
       "      <td>90</td>\n",
       "      <td>87</td>\n",
       "      <td>93</td>\n",
       "    </tr>\n",
       "    <tr>\n",
       "      <th>mistralai_frugal_score</th>\n",
       "      <td>88</td>\n",
       "      <td>88</td>\n",
       "      <td>90</td>\n",
       "    </tr>\n",
       "    <tr>\n",
       "      <th>falcon_base_frugal_score</th>\n",
       "      <td>88</td>\n",
       "      <td>86</td>\n",
       "      <td>90</td>\n",
       "    </tr>\n",
       "    <tr>\n",
       "      <th>falcon_frugal_score</th>\n",
       "      <td>87</td>\n",
       "      <td>86</td>\n",
       "      <td>90</td>\n",
       "    </tr>\n",
       "    <tr>\n",
       "      <th>llama_frugal_score</th>\n",
       "      <td>87</td>\n",
       "      <td>87</td>\n",
       "      <td>90</td>\n",
       "    </tr>\n",
       "  </tbody>\n",
       "</table>\n",
       "</div>"
      ],
      "text/plain": [
       "renamed_tasks                             How-to? INST  Missing INST  \\\n",
       "openai_compe_gpt4o_24_11_20_frugal_score            86            88   \n",
       "zephyr_frugal_score                                 90            87   \n",
       "mistralai_frugal_score                              88            88   \n",
       "falcon_base_frugal_score                            88            86   \n",
       "falcon_frugal_score                                 87            86   \n",
       "llama_frugal_score                                  87            87   \n",
       "\n",
       "renamed_tasks                             RE-types INST  \n",
       "openai_compe_gpt4o_24_11_20_frugal_score             87  \n",
       "zephyr_frugal_score                                  93  \n",
       "mistralai_frugal_score                               90  \n",
       "falcon_base_frugal_score                             90  \n",
       "falcon_frugal_score                                  90  \n",
       "llama_frugal_score                                   90  "
      ]
     },
     "execution_count": 22,
     "metadata": {},
     "output_type": "execute_result"
    }
   ],
   "source": [
    "frugal_stats"
   ]
  },
  {
   "cell_type": "code",
   "execution_count": 23,
   "id": "b760eb25-e9c5-48bf-909c-9f77b8be8cce",
   "metadata": {
    "tags": []
   },
   "outputs": [
    {
     "data": {
      "text/html": [
       "<div>\n",
       "<style scoped>\n",
       "    .dataframe tbody tr th:only-of-type {\n",
       "        vertical-align: middle;\n",
       "    }\n",
       "\n",
       "    .dataframe tbody tr th {\n",
       "        vertical-align: top;\n",
       "    }\n",
       "\n",
       "    .dataframe thead th {\n",
       "        text-align: right;\n",
       "    }\n",
       "</style>\n",
       "<table border=\"1\" class=\"dataframe\">\n",
       "  <thead>\n",
       "    <tr style=\"text-align: right;\">\n",
       "      <th>renamed_tasks</th>\n",
       "      <th>How-to? INST</th>\n",
       "      <th>Missing INST</th>\n",
       "      <th>RE-types INST</th>\n",
       "    </tr>\n",
       "  </thead>\n",
       "  <tbody>\n",
       "    <tr>\n",
       "      <th>openai_compe_gpt4o_24_11_20_bert_score</th>\n",
       "      <td>85</td>\n",
       "      <td>86</td>\n",
       "      <td>86</td>\n",
       "    </tr>\n",
       "    <tr>\n",
       "      <th>zephyr_bert_score</th>\n",
       "      <td>89</td>\n",
       "      <td>87</td>\n",
       "      <td>90</td>\n",
       "    </tr>\n",
       "    <tr>\n",
       "      <th>mistralai_bert_score</th>\n",
       "      <td>86</td>\n",
       "      <td>89</td>\n",
       "      <td>88</td>\n",
       "    </tr>\n",
       "    <tr>\n",
       "      <th>falcon_base_bert_score</th>\n",
       "      <td>85</td>\n",
       "      <td>79</td>\n",
       "      <td>87</td>\n",
       "    </tr>\n",
       "    <tr>\n",
       "      <th>falcon_bert_score</th>\n",
       "      <td>86</td>\n",
       "      <td>83</td>\n",
       "      <td>88</td>\n",
       "    </tr>\n",
       "    <tr>\n",
       "      <th>llama_bert_score</th>\n",
       "      <td>85</td>\n",
       "      <td>87</td>\n",
       "      <td>87</td>\n",
       "    </tr>\n",
       "  </tbody>\n",
       "</table>\n",
       "</div>"
      ],
      "text/plain": [
       "renamed_tasks                           How-to? INST  Missing INST  \\\n",
       "openai_compe_gpt4o_24_11_20_bert_score            85            86   \n",
       "zephyr_bert_score                                 89            87   \n",
       "mistralai_bert_score                              86            89   \n",
       "falcon_base_bert_score                            85            79   \n",
       "falcon_bert_score                                 86            83   \n",
       "llama_bert_score                                  85            87   \n",
       "\n",
       "renamed_tasks                           RE-types INST  \n",
       "openai_compe_gpt4o_24_11_20_bert_score             86  \n",
       "zephyr_bert_score                                  90  \n",
       "mistralai_bert_score                               88  \n",
       "falcon_base_bert_score                             87  \n",
       "falcon_bert_score                                  88  \n",
       "llama_bert_score                                   87  "
      ]
     },
     "execution_count": 23,
     "metadata": {},
     "output_type": "execute_result"
    }
   ],
   "source": [
    "bert_stats"
   ]
  },
  {
   "cell_type": "code",
   "execution_count": 24,
   "id": "b5cac7bb-77d9-4382-b378-dd90b7275ca1",
   "metadata": {
    "tags": []
   },
   "outputs": [],
   "source": [
    "label_mapper = {\n",
    "    'gpt4_bert_score': 'GPT-4',\n",
    "    'gpt_4_frugal_score': 'GPT-4',\n",
    "    'openai_compe_gpt4o_24_11_20_frugal_score': 'GPT-4o',\n",
    "    'openai_compe_gpt4o_24_11_20_bert_score': 'GPT-4o',\n",
    "    'zephyr_bert_score': 'Zephyr-7b-beta',\n",
    "    'mistralai_bert_score': 'Mistral-7B-Instruct-v0.2',\n",
    "    'falcon_base_bert_score': 'Falcon-7b',\n",
    "    'falcon_bert_score': 'Falcon-7b-instruct',\n",
    "    'llama_bert_score': 'Llama-2-7b-chat-hf',\n",
    "    'zephyr_frugal_score': 'Zephyr-7b-beta',\n",
    "    'mistralai_frugal_score': 'Mistral-7B-Instruct-v0.2',\n",
    "    'falcon_base_frugal_score': 'Falcon-7b',\n",
    "    'falcon_frugal_score': 'Falcon-7b-instruct',\n",
    "    'llama_frugal_score':  'Llama-2-7b-chat-hf'\n",
    "}"
   ]
  },
  {
   "cell_type": "code",
   "execution_count": 25,
   "id": "c815c6e9-06f2-40f2-b3e4-242c9a0ea7bb",
   "metadata": {
    "tags": []
   },
   "outputs": [],
   "source": [
    "frugal_labels = frugal_stats.columns.to_numpy()\n",
    "frugal_values = frugal_stats.values\n",
    "frugal_line_names = frugal_stats.index.to_numpy()"
   ]
  },
  {
   "cell_type": "code",
   "execution_count": 26,
   "id": "39f3c0e0-79ae-4db2-9342-b2ba189b0bf9",
   "metadata": {
    "tags": []
   },
   "outputs": [],
   "source": [
    "bert_labels = bert_stats.columns.to_numpy()\n",
    "bert_values = bert_stats.values\n",
    "bert_line_names = bert_stats.index.to_numpy()"
   ]
  },
  {
   "cell_type": "code",
   "execution_count": 27,
   "id": "b772dcb4-cbb6-4d35-b98e-6e51fc8a177d",
   "metadata": {
    "tags": []
   },
   "outputs": [
    {
     "data": {
      "text/plain": [
       "array(['openai_compe_gpt4o_24_11_20_bert_score', 'zephyr_bert_score',\n",
       "       'mistralai_bert_score', 'falcon_base_bert_score',\n",
       "       'falcon_bert_score', 'llama_bert_score'], dtype=object)"
      ]
     },
     "execution_count": 27,
     "metadata": {},
     "output_type": "execute_result"
    }
   ],
   "source": [
    "bert_line_names"
   ]
  },
  {
   "cell_type": "code",
   "execution_count": 28,
   "id": "b7b9314f-146a-4a11-832c-b62e992b52e1",
   "metadata": {
    "tags": []
   },
   "outputs": [
    {
     "data": {
      "image/png": "[encoded data removed]",
      "text/plain": [
       "<Figure size 800x310 with 2 Axes>"
      ]
     },
     "metadata": {},
     "output_type": "display_data"
    }
   ],
   "source": [
    "import matplotlib.colors as mcolors\n",
    "\n",
    "\n",
    "custom_colors = ['#E63946', '#F4A261', '#2A9D8F', '#457B9D', '#A8DADC', '#D4A5A5', '#6A4C93']\n",
    "\n",
    "custom_cmap = mcolors.ListedColormap(custom_colors)\n",
    "line_colors = custom_colors\n",
    "\n",
    "title_plot_1 = 'FRUGAL Score'\n",
    "labels_plot_1 = frugal_labels\n",
    "values_plot_1 = frugal_values\n",
    "line_names_plot_1 = [label_mapper[model_name] for model_name in frugal_line_names]\n",
    "\n",
    "title_plot_2 = 'BERT Score'\n",
    "labels_plot_2 = bert_labels\n",
    "values_plot_2 = bert_values\n",
    "line_names_plot_2 = [label_mapper[model_name] for model_name in bert_line_names]\n",
    "\n",
    "num_vars = len(labels_plot_1)\n",
    "\n",
    "fig, (ax1, ax2) = plt.subplots(1, 2, figsize=(8, 3.1), subplot_kw=dict(polar=True))\n",
    "\n",
    "# angles = np.linspace(0, 2 * np.pi, num_vars, endpoint=False).tolist()\n",
    "angles_degrees = [225, 315, 90]\n",
    "angles = np.deg2rad(angles_degrees).tolist()\n",
    "\n",
    "angles += angles[:1]\n",
    "\n",
    "# Plot for the first subplot\n",
    "ax1.set_title(title_plot_1, pad = 20, fontsize = 11)\n",
    "ax1.set_facecolor('whitesmoke') \n",
    "ax1.set_ylim(78, 94)  \n",
    "ax1.set_yticks([78, 85, 89, 93]) \n",
    "\n",
    "line_styles = ['-', '-.', '-.', '-.', '-.']  \n",
    "for i, val in enumerate(values_plot_1):\n",
    "    val_closed = np.append(val, val[0])\n",
    "    ax1.plot(angles, val_closed, linewidth = 1.5, linestyle=line_styles[i % len(line_styles)], label=line_names_plot_1[i], color=line_colors[i])\n",
    "    ax1.fill(angles, val_closed, alpha=0.02 * (i+1))\n",
    "\n",
    "\n",
    "label_angles_1 = np.linspace(0, 2 * np.pi, len(labels_plot_1), endpoint=False).tolist()\n",
    "ax1.set_xticks(angles[:-1])\n",
    "ax1.set_xticklabels(labels_plot_1, rotation=0, ha='center') \n",
    "\n",
    "\n",
    "ax1.spines['polar'].set_color('whitesmoke')\n",
    "ax1.spines['polar'].set_linewidth(1)\n",
    "ax1.yaxis.grid(True, color='white')\n",
    "\n",
    "ax1.tick_params(colors= 'black', width = 50, labelsize = 9, grid_linewidth = 1.5, grid_linestyle = '-') \n",
    "\n",
    "ticks = ax1.get_xticklabels()\n",
    "paddings = [-0.1, -0.1, 0.05] \n",
    "for tick, pad in zip(ticks, paddings):\n",
    "    tick.set_position((tick.get_position()[0], pad))\n",
    "    \n",
    "# Plot for the second subplot\n",
    "ax2.set_title(title_plot_2, pad = 20, fontsize= 11)\n",
    "ax2.set_facecolor('whitesmoke')  \n",
    "ax2.set_ylim(78, 94)  \n",
    "ax2.set_yticks([78, 85, 89, 93])  \n",
    "\n",
    "for i, val in enumerate(values_plot_2):\n",
    "    val_closed = np.append(val, val[0])\n",
    "    ax2.plot(angles, val_closed, linewidth = 1.5, linestyle = line_styles[i % len(line_styles)], label=line_names_plot_2[i], color=line_colors[i])\n",
    "    ax2.fill(angles, val_closed, alpha=0.02 * (i+1))\n",
    "\n",
    "\n",
    "label_angles_2 = np.linspace(0, 2 * np.pi, len(labels_plot_2), endpoint=False).tolist()\n",
    "ax2.set_xticks(angles[:-1])\n",
    "ax2.set_xticklabels(labels_plot_2, rotation = 0, ha = 'center')  \n",
    "\n",
    "    \n",
    "ax2.spines['polar'].set_color('whitesmoke')\n",
    "ax2.spines['polar'].set_linewidth(2)\n",
    "ax2.yaxis.grid(True, color = 'white')\n",
    "\n",
    "ax2.tick_params(colors= 'black', width = 50, labelsize = 9, grid_linewidth = 1.5, grid_linestyle = '-')\n",
    "\n",
    "ticks = ax2.get_xticklabels()\n",
    "paddings = [-0.1, -0.1, 0.05] \n",
    "for tick, pad, rot in zip(ticks, paddings, angles):\n",
    "    tick.set_position((tick.get_position()[0], pad))\n",
    "\n",
    "handles, labels = ax1.get_legend_handles_labels()\n",
    "fig.legend(handles, labels, loc='center', bbox_to_anchor=(0.5, -0.05), ncol = 3, fontsize = 9, )\n",
    "\n",
    "\n",
    "plt.subplots_adjust(wspace = -0.7) \n",
    "plt.tight_layout()\n",
    "plt.savefig('./spider_chart.pdf', bbox_inches = 'tight')\n",
    "\n",
    "plt.show()"
   ]
  },
  {
   "cell_type": "code",
   "execution_count": null,
   "id": "689511f7-f4a0-4c41-b72b-51d34a25eb74",
   "metadata": {},
   "outputs": [],
   "source": []
  },
  {
   "cell_type": "code",
   "execution_count": null,
   "id": "8efab3ef-d2f5-4dee-9eac-92dbedfeb8ed",
   "metadata": {},
   "outputs": [],
   "source": []
  }
 ],
 "metadata": {
  "kernelspec": {
   "display_name": "Python 3 (ipykernel)",
   "language": "python",
   "name": "python3"
  },
  "language_info": {
   "codemirror_mode": {
    "name": "ipython",
    "version": 3
   },
   "file_extension": ".py",
   "mimetype": "text/x-python",
   "name": "python",
   "nbconvert_exporter": "python",
   "pygments_lexer": "ipython3",
   "version": "3.9.16"
  }
 },
 "nbformat": 4,
 "nbformat_minor": 5
}
